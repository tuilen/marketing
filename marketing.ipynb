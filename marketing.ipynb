{
  "nbformat": 4,
  "nbformat_minor": 0,
  "metadata": {
    "colab": {
      "provenance": [],
      "toc_visible": true
    },
    "kernelspec": {
      "name": "python3",
      "display_name": "Python 3"
    },
    "language_info": {
      "name": "python"
    }
  },
  "cells": [
    {
      "cell_type": "markdown",
      "source": [
        "# Маркетинг\n",
        "Интернет-магазин собирает историю покупателей, проводит рассылки предложений и\n",
        "планирует будущие продажи. Для оптимизации процессов необходимо выделить пользователей,\n",
        "которые готовы совершить покупку в ближайшее время.  \n",
        "Требуется предсказать вероятность покупки в течение 90 дней пользователем интернет-магазина. Заказчиком определена метрика требуемой модели: ROC AUC >= 0.7.  \n",
        "Интернет-магазин предоставил данные об истории покупок и истории рекламных рассылок.  \n",
        "Описание данных:\n",
        "1. apparel-purchases - информация о покупках:\n",
        " - client_id идентификатор клиента\n",
        " - quantity количество единиц товара\n",
        " - price цена товара\n",
        " - category_ids идентификаторы категорий\n",
        " - date дата покупки\n",
        " - message_id идентификатор сообщения из рассылки\n",
        "2. apparel-messages - информация о рассылках:\n",
        " - bulk_campaign_id идентификатор рассылки\n",
        " - client_id идентификатор клиента\n",
        " - message_id идентификатор сообщения\n",
        " - event действие с сообщением\n",
        " - channel канал рассылки\n",
        " - date дата действия\n",
        " - created_at дата-время полностью\n",
        "3. apparel-target_binary - информация о факте повторной покупки:\n",
        " - client_id идентификатор клиента\n",
        " - target клиент совершил покупку в целевом периоде  \n",
        "\n",
        "Исследование проходит в несколько этапов:\n",
        "1. Загрузка данных.\n",
        "2. Анализ данных.\n",
        "3. Разработка признаков.\n",
        "4. Обучение модели.\n",
        "5. Оценка значимости признаков."
      ],
      "metadata": {
        "id": "BGLRRoZhJQmJ"
      }
    },
    {
      "cell_type": "markdown",
      "source": [
        "## Загрузка данных"
      ],
      "metadata": {
        "id": "zd3MqKtgLp5-"
      }
    },
    {
      "cell_type": "markdown",
      "source": [
        "Импорт необходимых библиотек и модулей:"
      ],
      "metadata": {
        "id": "-8DmbJrcLwaY"
      }
    },
    {
      "cell_type": "code",
      "source": [
        "!pip install phik"
      ],
      "metadata": {
        "colab": {
          "base_uri": "https://localhost:8080/"
        },
        "id": "QFBI7DC_dy4C",
        "outputId": "0474791f-c3d2-41d4-f5ad-16a8aa6fd496"
      },
      "execution_count": 1,
      "outputs": [
        {
          "output_type": "stream",
          "name": "stdout",
          "text": [
            "Requirement already satisfied: phik in /usr/local/lib/python3.10/dist-packages (0.12.4)\n",
            "Requirement already satisfied: numpy>=1.18.0 in /usr/local/lib/python3.10/dist-packages (from phik) (1.26.4)\n",
            "Requirement already satisfied: scipy>=1.5.2 in /usr/local/lib/python3.10/dist-packages (from phik) (1.13.1)\n",
            "Requirement already satisfied: pandas>=0.25.1 in /usr/local/lib/python3.10/dist-packages (from phik) (2.2.2)\n",
            "Requirement already satisfied: matplotlib>=2.2.3 in /usr/local/lib/python3.10/dist-packages (from phik) (3.7.1)\n",
            "Requirement already satisfied: joblib>=0.14.1 in /usr/local/lib/python3.10/dist-packages (from phik) (1.4.2)\n",
            "Requirement already satisfied: contourpy>=1.0.1 in /usr/local/lib/python3.10/dist-packages (from matplotlib>=2.2.3->phik) (1.3.0)\n",
            "Requirement already satisfied: cycler>=0.10 in /usr/local/lib/python3.10/dist-packages (from matplotlib>=2.2.3->phik) (0.12.1)\n",
            "Requirement already satisfied: fonttools>=4.22.0 in /usr/local/lib/python3.10/dist-packages (from matplotlib>=2.2.3->phik) (4.54.1)\n",
            "Requirement already satisfied: kiwisolver>=1.0.1 in /usr/local/lib/python3.10/dist-packages (from matplotlib>=2.2.3->phik) (1.4.7)\n",
            "Requirement already satisfied: packaging>=20.0 in /usr/local/lib/python3.10/dist-packages (from matplotlib>=2.2.3->phik) (24.1)\n",
            "Requirement already satisfied: pillow>=6.2.0 in /usr/local/lib/python3.10/dist-packages (from matplotlib>=2.2.3->phik) (10.4.0)\n",
            "Requirement already satisfied: pyparsing>=2.3.1 in /usr/local/lib/python3.10/dist-packages (from matplotlib>=2.2.3->phik) (3.2.0)\n",
            "Requirement already satisfied: python-dateutil>=2.7 in /usr/local/lib/python3.10/dist-packages (from matplotlib>=2.2.3->phik) (2.8.2)\n",
            "Requirement already satisfied: pytz>=2020.1 in /usr/local/lib/python3.10/dist-packages (from pandas>=0.25.1->phik) (2024.2)\n",
            "Requirement already satisfied: tzdata>=2022.7 in /usr/local/lib/python3.10/dist-packages (from pandas>=0.25.1->phik) (2024.2)\n",
            "Requirement already satisfied: six>=1.5 in /usr/local/lib/python3.10/dist-packages (from python-dateutil>=2.7->matplotlib>=2.2.3->phik) (1.16.0)\n"
          ]
        }
      ]
    },
    {
      "cell_type": "code",
      "execution_count": 2,
      "metadata": {
        "id": "DCME0dmkyMS_",
        "colab": {
          "base_uri": "https://localhost:8080/"
        },
        "outputId": "d5abe9f8-9c11-4904-d7a5-02871f467cba"
      },
      "outputs": [
        {
          "output_type": "stream",
          "name": "stderr",
          "text": [
            "/usr/local/lib/python3.10/dist-packages/dask/dataframe/__init__.py:42: FutureWarning: \n",
            "Dask dataframe query planning is disabled because dask-expr is not installed.\n",
            "\n",
            "You can install it with `pip install dask[dataframe]` or `conda install dask`.\n",
            "This will raise in a future version.\n",
            "\n",
            "  warnings.warn(msg, FutureWarning)\n"
          ]
        }
      ],
      "source": [
        "import pandas as pd\n",
        "import matplotlib.pyplot as plt\n",
        "import seaborn as sns\n",
        "import lightgbm as lgb\n",
        "from sklearn.model_selection import train_test_split, GridSearchCV\n",
        "from sklearn.pipeline import Pipeline\n",
        "from sklearn.metrics import roc_auc_score\n",
        "import shap\n",
        "import ast\n",
        "from phik import phik_matrix\n",
        "from google.colab import drive\n",
        "\n",
        "TEST_SIZE = 0.25\n",
        "RANDOM_STATE = 42"
      ]
    },
    {
      "cell_type": "markdown",
      "source": [
        "Монтирование Google Drive с исходными данными:"
      ],
      "metadata": {
        "id": "QN6ngdulL2YL"
      }
    },
    {
      "cell_type": "code",
      "source": [
        "drive.mount('/content/gdrive');"
      ],
      "metadata": {
        "id": "lQwQlOJOMBKB",
        "colab": {
          "base_uri": "https://localhost:8080/"
        },
        "outputId": "297a237b-38de-41f3-a27b-e1428577ee6c"
      },
      "execution_count": 3,
      "outputs": [
        {
          "output_type": "stream",
          "name": "stdout",
          "text": [
            "Drive already mounted at /content/gdrive; to attempt to forcibly remount, call drive.mount(\"/content/gdrive\", force_remount=True).\n"
          ]
        }
      ]
    },
    {
      "cell_type": "markdown",
      "source": [
        "Загрузка исходных данных в датафреймы:"
      ],
      "metadata": {
        "id": "hNoxjUGVMfoW"
      }
    },
    {
      "cell_type": "code",
      "source": [
        "apparel_messages = pd.read_csv('/content/gdrive/MyDrive/apparel-messages.csv', parse_dates = ['date', 'created_at'])\n",
        "apparel_messages.Name = 'apparel_messages'\n",
        "\n",
        "apparel_purchases = pd.read_csv('/content/gdrive/MyDrive/apparel-purchases.csv', parse_dates=['date'])\n",
        "apparel_purchases.Name = 'apparel_purchases'\n",
        "\n",
        "apparel_target = pd.read_csv('/content/gdrive/MyDrive/apparel-target_binary.csv')\n",
        "apparel_target.Name = 'apparel_target'"
      ],
      "metadata": {
        "id": "1hxKKsaQ14R3"
      },
      "execution_count": 4,
      "outputs": []
    },
    {
      "cell_type": "markdown",
      "source": [
        "Вывод общей информации об исходных данных:"
      ],
      "metadata": {
        "id": "VCd-ejHfRihi"
      }
    },
    {
      "cell_type": "code",
      "source": [
        "for df in [apparel_messages, apparel_purchases, apparel_target]:\n",
        "  print(f'Датафрейм {df.Name}:')\n",
        "  df.info()\n",
        "  display(df.head())\n",
        "  print('\\n\\n\\n')"
      ],
      "metadata": {
        "colab": {
          "base_uri": "https://localhost:8080/",
          "height": 1000
        },
        "id": "D7hjOGq_Pjuk",
        "outputId": "4cc5ec4b-ec5d-436d-f81d-206d63c1b271"
      },
      "execution_count": 5,
      "outputs": [
        {
          "output_type": "stream",
          "name": "stdout",
          "text": [
            "Датафрейм apparel_messages:\n",
            "<class 'pandas.core.frame.DataFrame'>\n",
            "RangeIndex: 12739798 entries, 0 to 12739797\n",
            "Data columns (total 7 columns):\n",
            " #   Column            Dtype         \n",
            "---  ------            -----         \n",
            " 0   bulk_campaign_id  int64         \n",
            " 1   client_id         int64         \n",
            " 2   message_id        object        \n",
            " 3   event             object        \n",
            " 4   channel           object        \n",
            " 5   date              datetime64[ns]\n",
            " 6   created_at        datetime64[ns]\n",
            "dtypes: datetime64[ns](2), int64(2), object(3)\n",
            "memory usage: 680.4+ MB\n"
          ]
        },
        {
          "output_type": "display_data",
          "data": {
            "text/plain": [
              "   bulk_campaign_id            client_id  \\\n",
              "0              4439  1515915625626736623   \n",
              "1              4439  1515915625490086521   \n",
              "2              4439  1515915625553578558   \n",
              "3              4439  1515915625553578558   \n",
              "4              4439  1515915625471518311   \n",
              "\n",
              "                               message_id  event channel       date  \\\n",
              "0  1515915625626736623-4439-6283415ac07ea   open   email 2022-05-19   \n",
              "1  1515915625490086521-4439-62834150016dd   open   email 2022-05-19   \n",
              "2  1515915625553578558-4439-6283415b36b4f   open   email 2022-05-19   \n",
              "3  1515915625553578558-4439-6283415b36b4f  click   email 2022-05-19   \n",
              "4  1515915625471518311-4439-628341570c133   open   email 2022-05-19   \n",
              "\n",
              "           created_at  \n",
              "0 2022-05-19 00:14:20  \n",
              "1 2022-05-19 00:39:34  \n",
              "2 2022-05-19 00:51:49  \n",
              "3 2022-05-19 00:52:20  \n",
              "4 2022-05-19 00:56:52  "
            ],
            "text/html": [
              "\n",
              "  <div id=\"df-72fcb715-37c0-4e94-b57e-e5c853a392be\" class=\"colab-df-container\">\n",
              "    <div>\n",
              "<style scoped>\n",
              "    .dataframe tbody tr th:only-of-type {\n",
              "        vertical-align: middle;\n",
              "    }\n",
              "\n",
              "    .dataframe tbody tr th {\n",
              "        vertical-align: top;\n",
              "    }\n",
              "\n",
              "    .dataframe thead th {\n",
              "        text-align: right;\n",
              "    }\n",
              "</style>\n",
              "<table border=\"1\" class=\"dataframe\">\n",
              "  <thead>\n",
              "    <tr style=\"text-align: right;\">\n",
              "      <th></th>\n",
              "      <th>bulk_campaign_id</th>\n",
              "      <th>client_id</th>\n",
              "      <th>message_id</th>\n",
              "      <th>event</th>\n",
              "      <th>channel</th>\n",
              "      <th>date</th>\n",
              "      <th>created_at</th>\n",
              "    </tr>\n",
              "  </thead>\n",
              "  <tbody>\n",
              "    <tr>\n",
              "      <th>0</th>\n",
              "      <td>4439</td>\n",
              "      <td>1515915625626736623</td>\n",
              "      <td>1515915625626736623-4439-6283415ac07ea</td>\n",
              "      <td>open</td>\n",
              "      <td>email</td>\n",
              "      <td>2022-05-19</td>\n",
              "      <td>2022-05-19 00:14:20</td>\n",
              "    </tr>\n",
              "    <tr>\n",
              "      <th>1</th>\n",
              "      <td>4439</td>\n",
              "      <td>1515915625490086521</td>\n",
              "      <td>1515915625490086521-4439-62834150016dd</td>\n",
              "      <td>open</td>\n",
              "      <td>email</td>\n",
              "      <td>2022-05-19</td>\n",
              "      <td>2022-05-19 00:39:34</td>\n",
              "    </tr>\n",
              "    <tr>\n",
              "      <th>2</th>\n",
              "      <td>4439</td>\n",
              "      <td>1515915625553578558</td>\n",
              "      <td>1515915625553578558-4439-6283415b36b4f</td>\n",
              "      <td>open</td>\n",
              "      <td>email</td>\n",
              "      <td>2022-05-19</td>\n",
              "      <td>2022-05-19 00:51:49</td>\n",
              "    </tr>\n",
              "    <tr>\n",
              "      <th>3</th>\n",
              "      <td>4439</td>\n",
              "      <td>1515915625553578558</td>\n",
              "      <td>1515915625553578558-4439-6283415b36b4f</td>\n",
              "      <td>click</td>\n",
              "      <td>email</td>\n",
              "      <td>2022-05-19</td>\n",
              "      <td>2022-05-19 00:52:20</td>\n",
              "    </tr>\n",
              "    <tr>\n",
              "      <th>4</th>\n",
              "      <td>4439</td>\n",
              "      <td>1515915625471518311</td>\n",
              "      <td>1515915625471518311-4439-628341570c133</td>\n",
              "      <td>open</td>\n",
              "      <td>email</td>\n",
              "      <td>2022-05-19</td>\n",
              "      <td>2022-05-19 00:56:52</td>\n",
              "    </tr>\n",
              "  </tbody>\n",
              "</table>\n",
              "</div>\n",
              "    <div class=\"colab-df-buttons\">\n",
              "\n",
              "  <div class=\"colab-df-container\">\n",
              "    <button class=\"colab-df-convert\" onclick=\"convertToInteractive('df-72fcb715-37c0-4e94-b57e-e5c853a392be')\"\n",
              "            title=\"Convert this dataframe to an interactive table.\"\n",
              "            style=\"display:none;\">\n",
              "\n",
              "  <svg xmlns=\"http://www.w3.org/2000/svg\" height=\"24px\" viewBox=\"0 -960 960 960\">\n",
              "    <path d=\"M120-120v-720h720v720H120Zm60-500h600v-160H180v160Zm220 220h160v-160H400v160Zm0 220h160v-160H400v160ZM180-400h160v-160H180v160Zm440 0h160v-160H620v160ZM180-180h160v-160H180v160Zm440 0h160v-160H620v160Z\"/>\n",
              "  </svg>\n",
              "    </button>\n",
              "\n",
              "  <style>\n",
              "    .colab-df-container {\n",
              "      display:flex;\n",
              "      gap: 12px;\n",
              "    }\n",
              "\n",
              "    .colab-df-convert {\n",
              "      background-color: #E8F0FE;\n",
              "      border: none;\n",
              "      border-radius: 50%;\n",
              "      cursor: pointer;\n",
              "      display: none;\n",
              "      fill: #1967D2;\n",
              "      height: 32px;\n",
              "      padding: 0 0 0 0;\n",
              "      width: 32px;\n",
              "    }\n",
              "\n",
              "    .colab-df-convert:hover {\n",
              "      background-color: #E2EBFA;\n",
              "      box-shadow: 0px 1px 2px rgba(60, 64, 67, 0.3), 0px 1px 3px 1px rgba(60, 64, 67, 0.15);\n",
              "      fill: #174EA6;\n",
              "    }\n",
              "\n",
              "    .colab-df-buttons div {\n",
              "      margin-bottom: 4px;\n",
              "    }\n",
              "\n",
              "    [theme=dark] .colab-df-convert {\n",
              "      background-color: #3B4455;\n",
              "      fill: #D2E3FC;\n",
              "    }\n",
              "\n",
              "    [theme=dark] .colab-df-convert:hover {\n",
              "      background-color: #434B5C;\n",
              "      box-shadow: 0px 1px 3px 1px rgba(0, 0, 0, 0.15);\n",
              "      filter: drop-shadow(0px 1px 2px rgba(0, 0, 0, 0.3));\n",
              "      fill: #FFFFFF;\n",
              "    }\n",
              "  </style>\n",
              "\n",
              "    <script>\n",
              "      const buttonEl =\n",
              "        document.querySelector('#df-72fcb715-37c0-4e94-b57e-e5c853a392be button.colab-df-convert');\n",
              "      buttonEl.style.display =\n",
              "        google.colab.kernel.accessAllowed ? 'block' : 'none';\n",
              "\n",
              "      async function convertToInteractive(key) {\n",
              "        const element = document.querySelector('#df-72fcb715-37c0-4e94-b57e-e5c853a392be');\n",
              "        const dataTable =\n",
              "          await google.colab.kernel.invokeFunction('convertToInteractive',\n",
              "                                                    [key], {});\n",
              "        if (!dataTable) return;\n",
              "\n",
              "        const docLinkHtml = 'Like what you see? Visit the ' +\n",
              "          '<a target=\"_blank\" href=https://colab.research.google.com/notebooks/data_table.ipynb>data table notebook</a>'\n",
              "          + ' to learn more about interactive tables.';\n",
              "        element.innerHTML = '';\n",
              "        dataTable['output_type'] = 'display_data';\n",
              "        await google.colab.output.renderOutput(dataTable, element);\n",
              "        const docLink = document.createElement('div');\n",
              "        docLink.innerHTML = docLinkHtml;\n",
              "        element.appendChild(docLink);\n",
              "      }\n",
              "    </script>\n",
              "  </div>\n",
              "\n",
              "\n",
              "<div id=\"df-a86fd367-5aa9-4f24-b2dd-72317db20c4c\">\n",
              "  <button class=\"colab-df-quickchart\" onclick=\"quickchart('df-a86fd367-5aa9-4f24-b2dd-72317db20c4c')\"\n",
              "            title=\"Suggest charts\"\n",
              "            style=\"display:none;\">\n",
              "\n",
              "<svg xmlns=\"http://www.w3.org/2000/svg\" height=\"24px\"viewBox=\"0 0 24 24\"\n",
              "     width=\"24px\">\n",
              "    <g>\n",
              "        <path d=\"M19 3H5c-1.1 0-2 .9-2 2v14c0 1.1.9 2 2 2h14c1.1 0 2-.9 2-2V5c0-1.1-.9-2-2-2zM9 17H7v-7h2v7zm4 0h-2V7h2v10zm4 0h-2v-4h2v4z\"/>\n",
              "    </g>\n",
              "</svg>\n",
              "  </button>\n",
              "\n",
              "<style>\n",
              "  .colab-df-quickchart {\n",
              "      --bg-color: #E8F0FE;\n",
              "      --fill-color: #1967D2;\n",
              "      --hover-bg-color: #E2EBFA;\n",
              "      --hover-fill-color: #174EA6;\n",
              "      --disabled-fill-color: #AAA;\n",
              "      --disabled-bg-color: #DDD;\n",
              "  }\n",
              "\n",
              "  [theme=dark] .colab-df-quickchart {\n",
              "      --bg-color: #3B4455;\n",
              "      --fill-color: #D2E3FC;\n",
              "      --hover-bg-color: #434B5C;\n",
              "      --hover-fill-color: #FFFFFF;\n",
              "      --disabled-bg-color: #3B4455;\n",
              "      --disabled-fill-color: #666;\n",
              "  }\n",
              "\n",
              "  .colab-df-quickchart {\n",
              "    background-color: var(--bg-color);\n",
              "    border: none;\n",
              "    border-radius: 50%;\n",
              "    cursor: pointer;\n",
              "    display: none;\n",
              "    fill: var(--fill-color);\n",
              "    height: 32px;\n",
              "    padding: 0;\n",
              "    width: 32px;\n",
              "  }\n",
              "\n",
              "  .colab-df-quickchart:hover {\n",
              "    background-color: var(--hover-bg-color);\n",
              "    box-shadow: 0 1px 2px rgba(60, 64, 67, 0.3), 0 1px 3px 1px rgba(60, 64, 67, 0.15);\n",
              "    fill: var(--button-hover-fill-color);\n",
              "  }\n",
              "\n",
              "  .colab-df-quickchart-complete:disabled,\n",
              "  .colab-df-quickchart-complete:disabled:hover {\n",
              "    background-color: var(--disabled-bg-color);\n",
              "    fill: var(--disabled-fill-color);\n",
              "    box-shadow: none;\n",
              "  }\n",
              "\n",
              "  .colab-df-spinner {\n",
              "    border: 2px solid var(--fill-color);\n",
              "    border-color: transparent;\n",
              "    border-bottom-color: var(--fill-color);\n",
              "    animation:\n",
              "      spin 1s steps(1) infinite;\n",
              "  }\n",
              "\n",
              "  @keyframes spin {\n",
              "    0% {\n",
              "      border-color: transparent;\n",
              "      border-bottom-color: var(--fill-color);\n",
              "      border-left-color: var(--fill-color);\n",
              "    }\n",
              "    20% {\n",
              "      border-color: transparent;\n",
              "      border-left-color: var(--fill-color);\n",
              "      border-top-color: var(--fill-color);\n",
              "    }\n",
              "    30% {\n",
              "      border-color: transparent;\n",
              "      border-left-color: var(--fill-color);\n",
              "      border-top-color: var(--fill-color);\n",
              "      border-right-color: var(--fill-color);\n",
              "    }\n",
              "    40% {\n",
              "      border-color: transparent;\n",
              "      border-right-color: var(--fill-color);\n",
              "      border-top-color: var(--fill-color);\n",
              "    }\n",
              "    60% {\n",
              "      border-color: transparent;\n",
              "      border-right-color: var(--fill-color);\n",
              "    }\n",
              "    80% {\n",
              "      border-color: transparent;\n",
              "      border-right-color: var(--fill-color);\n",
              "      border-bottom-color: var(--fill-color);\n",
              "    }\n",
              "    90% {\n",
              "      border-color: transparent;\n",
              "      border-bottom-color: var(--fill-color);\n",
              "    }\n",
              "  }\n",
              "</style>\n",
              "\n",
              "  <script>\n",
              "    async function quickchart(key) {\n",
              "      const quickchartButtonEl =\n",
              "        document.querySelector('#' + key + ' button');\n",
              "      quickchartButtonEl.disabled = true;  // To prevent multiple clicks.\n",
              "      quickchartButtonEl.classList.add('colab-df-spinner');\n",
              "      try {\n",
              "        const charts = await google.colab.kernel.invokeFunction(\n",
              "            'suggestCharts', [key], {});\n",
              "      } catch (error) {\n",
              "        console.error('Error during call to suggestCharts:', error);\n",
              "      }\n",
              "      quickchartButtonEl.classList.remove('colab-df-spinner');\n",
              "      quickchartButtonEl.classList.add('colab-df-quickchart-complete');\n",
              "    }\n",
              "    (() => {\n",
              "      let quickchartButtonEl =\n",
              "        document.querySelector('#df-a86fd367-5aa9-4f24-b2dd-72317db20c4c button');\n",
              "      quickchartButtonEl.style.display =\n",
              "        google.colab.kernel.accessAllowed ? 'block' : 'none';\n",
              "    })();\n",
              "  </script>\n",
              "</div>\n",
              "    </div>\n",
              "  </div>\n"
            ],
            "application/vnd.google.colaboratory.intrinsic+json": {
              "type": "dataframe",
              "summary": "{\n  \"name\": \"  print('\\\\n\\\\n\\\\n')\",\n  \"rows\": 5,\n  \"fields\": [\n    {\n      \"column\": \"bulk_campaign_id\",\n      \"properties\": {\n        \"dtype\": \"number\",\n        \"std\": 0,\n        \"min\": 4439,\n        \"max\": 4439,\n        \"num_unique_values\": 1,\n        \"samples\": [\n          4439\n        ],\n        \"semantic_type\": \"\",\n        \"description\": \"\"\n      }\n    },\n    {\n      \"column\": \"client_id\",\n      \"properties\": {\n        \"dtype\": \"number\",\n        \"std\": 61378061,\n        \"min\": 1515915625471518311,\n        \"max\": 1515915625626736623,\n        \"num_unique_values\": 4,\n        \"samples\": [\n          1515915625490086521\n        ],\n        \"semantic_type\": \"\",\n        \"description\": \"\"\n      }\n    },\n    {\n      \"column\": \"message_id\",\n      \"properties\": {\n        \"dtype\": \"string\",\n        \"num_unique_values\": 4,\n        \"samples\": [\n          \"1515915625490086521-4439-62834150016dd\"\n        ],\n        \"semantic_type\": \"\",\n        \"description\": \"\"\n      }\n    },\n    {\n      \"column\": \"event\",\n      \"properties\": {\n        \"dtype\": \"category\",\n        \"num_unique_values\": 2,\n        \"samples\": [\n          \"click\"\n        ],\n        \"semantic_type\": \"\",\n        \"description\": \"\"\n      }\n    },\n    {\n      \"column\": \"channel\",\n      \"properties\": {\n        \"dtype\": \"category\",\n        \"num_unique_values\": 1,\n        \"samples\": [\n          \"email\"\n        ],\n        \"semantic_type\": \"\",\n        \"description\": \"\"\n      }\n    },\n    {\n      \"column\": \"date\",\n      \"properties\": {\n        \"dtype\": \"date\",\n        \"min\": \"2022-05-19 00:00:00\",\n        \"max\": \"2022-05-19 00:00:00\",\n        \"num_unique_values\": 1,\n        \"samples\": [\n          \"2022-05-19 00:00:00\"\n        ],\n        \"semantic_type\": \"\",\n        \"description\": \"\"\n      }\n    },\n    {\n      \"column\": \"created_at\",\n      \"properties\": {\n        \"dtype\": \"date\",\n        \"min\": \"2022-05-19 00:14:20\",\n        \"max\": \"2022-05-19 00:56:52\",\n        \"num_unique_values\": 5,\n        \"samples\": [\n          \"2022-05-19 00:39:34\"\n        ],\n        \"semantic_type\": \"\",\n        \"description\": \"\"\n      }\n    }\n  ]\n}"
            }
          },
          "metadata": {}
        },
        {
          "output_type": "stream",
          "name": "stdout",
          "text": [
            "\n",
            "\n",
            "\n",
            "\n",
            "Датафрейм apparel_purchases:\n",
            "<class 'pandas.core.frame.DataFrame'>\n",
            "RangeIndex: 202208 entries, 0 to 202207\n",
            "Data columns (total 6 columns):\n",
            " #   Column        Non-Null Count   Dtype         \n",
            "---  ------        --------------   -----         \n",
            " 0   client_id     202208 non-null  int64         \n",
            " 1   quantity      202208 non-null  int64         \n",
            " 2   price         202208 non-null  float64       \n",
            " 3   category_ids  202208 non-null  object        \n",
            " 4   date          202208 non-null  datetime64[ns]\n",
            " 5   message_id    202208 non-null  object        \n",
            "dtypes: datetime64[ns](1), float64(1), int64(2), object(2)\n",
            "memory usage: 9.3+ MB\n"
          ]
        },
        {
          "output_type": "display_data",
          "data": {
            "text/plain": [
              "             client_id  quantity   price               category_ids  \\\n",
              "0  1515915625468169594         1  1999.0   ['4', '28', '57', '431']   \n",
              "1  1515915625468169594         1  2499.0   ['4', '28', '57', '431']   \n",
              "2  1515915625471138230         1  6499.0   ['4', '28', '57', '431']   \n",
              "3  1515915625471138230         1  4999.0  ['4', '28', '244', '432']   \n",
              "4  1515915625471138230         1  4999.0   ['4', '28', '49', '413']   \n",
              "\n",
              "        date                              message_id  \n",
              "0 2022-05-16  1515915625468169594-4301-627b661e9736d  \n",
              "1 2022-05-16  1515915625468169594-4301-627b661e9736d  \n",
              "2 2022-05-16  1515915625471138230-4437-6282242f27843  \n",
              "3 2022-05-16  1515915625471138230-4437-6282242f27843  \n",
              "4 2022-05-16  1515915625471138230-4437-6282242f27843  "
            ],
            "text/html": [
              "\n",
              "  <div id=\"df-4ed751f1-0803-4eed-9606-beba8ae1d977\" class=\"colab-df-container\">\n",
              "    <div>\n",
              "<style scoped>\n",
              "    .dataframe tbody tr th:only-of-type {\n",
              "        vertical-align: middle;\n",
              "    }\n",
              "\n",
              "    .dataframe tbody tr th {\n",
              "        vertical-align: top;\n",
              "    }\n",
              "\n",
              "    .dataframe thead th {\n",
              "        text-align: right;\n",
              "    }\n",
              "</style>\n",
              "<table border=\"1\" class=\"dataframe\">\n",
              "  <thead>\n",
              "    <tr style=\"text-align: right;\">\n",
              "      <th></th>\n",
              "      <th>client_id</th>\n",
              "      <th>quantity</th>\n",
              "      <th>price</th>\n",
              "      <th>category_ids</th>\n",
              "      <th>date</th>\n",
              "      <th>message_id</th>\n",
              "    </tr>\n",
              "  </thead>\n",
              "  <tbody>\n",
              "    <tr>\n",
              "      <th>0</th>\n",
              "      <td>1515915625468169594</td>\n",
              "      <td>1</td>\n",
              "      <td>1999.0</td>\n",
              "      <td>['4', '28', '57', '431']</td>\n",
              "      <td>2022-05-16</td>\n",
              "      <td>1515915625468169594-4301-627b661e9736d</td>\n",
              "    </tr>\n",
              "    <tr>\n",
              "      <th>1</th>\n",
              "      <td>1515915625468169594</td>\n",
              "      <td>1</td>\n",
              "      <td>2499.0</td>\n",
              "      <td>['4', '28', '57', '431']</td>\n",
              "      <td>2022-05-16</td>\n",
              "      <td>1515915625468169594-4301-627b661e9736d</td>\n",
              "    </tr>\n",
              "    <tr>\n",
              "      <th>2</th>\n",
              "      <td>1515915625471138230</td>\n",
              "      <td>1</td>\n",
              "      <td>6499.0</td>\n",
              "      <td>['4', '28', '57', '431']</td>\n",
              "      <td>2022-05-16</td>\n",
              "      <td>1515915625471138230-4437-6282242f27843</td>\n",
              "    </tr>\n",
              "    <tr>\n",
              "      <th>3</th>\n",
              "      <td>1515915625471138230</td>\n",
              "      <td>1</td>\n",
              "      <td>4999.0</td>\n",
              "      <td>['4', '28', '244', '432']</td>\n",
              "      <td>2022-05-16</td>\n",
              "      <td>1515915625471138230-4437-6282242f27843</td>\n",
              "    </tr>\n",
              "    <tr>\n",
              "      <th>4</th>\n",
              "      <td>1515915625471138230</td>\n",
              "      <td>1</td>\n",
              "      <td>4999.0</td>\n",
              "      <td>['4', '28', '49', '413']</td>\n",
              "      <td>2022-05-16</td>\n",
              "      <td>1515915625471138230-4437-6282242f27843</td>\n",
              "    </tr>\n",
              "  </tbody>\n",
              "</table>\n",
              "</div>\n",
              "    <div class=\"colab-df-buttons\">\n",
              "\n",
              "  <div class=\"colab-df-container\">\n",
              "    <button class=\"colab-df-convert\" onclick=\"convertToInteractive('df-4ed751f1-0803-4eed-9606-beba8ae1d977')\"\n",
              "            title=\"Convert this dataframe to an interactive table.\"\n",
              "            style=\"display:none;\">\n",
              "\n",
              "  <svg xmlns=\"http://www.w3.org/2000/svg\" height=\"24px\" viewBox=\"0 -960 960 960\">\n",
              "    <path d=\"M120-120v-720h720v720H120Zm60-500h600v-160H180v160Zm220 220h160v-160H400v160Zm0 220h160v-160H400v160ZM180-400h160v-160H180v160Zm440 0h160v-160H620v160ZM180-180h160v-160H180v160Zm440 0h160v-160H620v160Z\"/>\n",
              "  </svg>\n",
              "    </button>\n",
              "\n",
              "  <style>\n",
              "    .colab-df-container {\n",
              "      display:flex;\n",
              "      gap: 12px;\n",
              "    }\n",
              "\n",
              "    .colab-df-convert {\n",
              "      background-color: #E8F0FE;\n",
              "      border: none;\n",
              "      border-radius: 50%;\n",
              "      cursor: pointer;\n",
              "      display: none;\n",
              "      fill: #1967D2;\n",
              "      height: 32px;\n",
              "      padding: 0 0 0 0;\n",
              "      width: 32px;\n",
              "    }\n",
              "\n",
              "    .colab-df-convert:hover {\n",
              "      background-color: #E2EBFA;\n",
              "      box-shadow: 0px 1px 2px rgba(60, 64, 67, 0.3), 0px 1px 3px 1px rgba(60, 64, 67, 0.15);\n",
              "      fill: #174EA6;\n",
              "    }\n",
              "\n",
              "    .colab-df-buttons div {\n",
              "      margin-bottom: 4px;\n",
              "    }\n",
              "\n",
              "    [theme=dark] .colab-df-convert {\n",
              "      background-color: #3B4455;\n",
              "      fill: #D2E3FC;\n",
              "    }\n",
              "\n",
              "    [theme=dark] .colab-df-convert:hover {\n",
              "      background-color: #434B5C;\n",
              "      box-shadow: 0px 1px 3px 1px rgba(0, 0, 0, 0.15);\n",
              "      filter: drop-shadow(0px 1px 2px rgba(0, 0, 0, 0.3));\n",
              "      fill: #FFFFFF;\n",
              "    }\n",
              "  </style>\n",
              "\n",
              "    <script>\n",
              "      const buttonEl =\n",
              "        document.querySelector('#df-4ed751f1-0803-4eed-9606-beba8ae1d977 button.colab-df-convert');\n",
              "      buttonEl.style.display =\n",
              "        google.colab.kernel.accessAllowed ? 'block' : 'none';\n",
              "\n",
              "      async function convertToInteractive(key) {\n",
              "        const element = document.querySelector('#df-4ed751f1-0803-4eed-9606-beba8ae1d977');\n",
              "        const dataTable =\n",
              "          await google.colab.kernel.invokeFunction('convertToInteractive',\n",
              "                                                    [key], {});\n",
              "        if (!dataTable) return;\n",
              "\n",
              "        const docLinkHtml = 'Like what you see? Visit the ' +\n",
              "          '<a target=\"_blank\" href=https://colab.research.google.com/notebooks/data_table.ipynb>data table notebook</a>'\n",
              "          + ' to learn more about interactive tables.';\n",
              "        element.innerHTML = '';\n",
              "        dataTable['output_type'] = 'display_data';\n",
              "        await google.colab.output.renderOutput(dataTable, element);\n",
              "        const docLink = document.createElement('div');\n",
              "        docLink.innerHTML = docLinkHtml;\n",
              "        element.appendChild(docLink);\n",
              "      }\n",
              "    </script>\n",
              "  </div>\n",
              "\n",
              "\n",
              "<div id=\"df-bebcf354-76b5-4fa3-8e3c-dde1c15514ea\">\n",
              "  <button class=\"colab-df-quickchart\" onclick=\"quickchart('df-bebcf354-76b5-4fa3-8e3c-dde1c15514ea')\"\n",
              "            title=\"Suggest charts\"\n",
              "            style=\"display:none;\">\n",
              "\n",
              "<svg xmlns=\"http://www.w3.org/2000/svg\" height=\"24px\"viewBox=\"0 0 24 24\"\n",
              "     width=\"24px\">\n",
              "    <g>\n",
              "        <path d=\"M19 3H5c-1.1 0-2 .9-2 2v14c0 1.1.9 2 2 2h14c1.1 0 2-.9 2-2V5c0-1.1-.9-2-2-2zM9 17H7v-7h2v7zm4 0h-2V7h2v10zm4 0h-2v-4h2v4z\"/>\n",
              "    </g>\n",
              "</svg>\n",
              "  </button>\n",
              "\n",
              "<style>\n",
              "  .colab-df-quickchart {\n",
              "      --bg-color: #E8F0FE;\n",
              "      --fill-color: #1967D2;\n",
              "      --hover-bg-color: #E2EBFA;\n",
              "      --hover-fill-color: #174EA6;\n",
              "      --disabled-fill-color: #AAA;\n",
              "      --disabled-bg-color: #DDD;\n",
              "  }\n",
              "\n",
              "  [theme=dark] .colab-df-quickchart {\n",
              "      --bg-color: #3B4455;\n",
              "      --fill-color: #D2E3FC;\n",
              "      --hover-bg-color: #434B5C;\n",
              "      --hover-fill-color: #FFFFFF;\n",
              "      --disabled-bg-color: #3B4455;\n",
              "      --disabled-fill-color: #666;\n",
              "  }\n",
              "\n",
              "  .colab-df-quickchart {\n",
              "    background-color: var(--bg-color);\n",
              "    border: none;\n",
              "    border-radius: 50%;\n",
              "    cursor: pointer;\n",
              "    display: none;\n",
              "    fill: var(--fill-color);\n",
              "    height: 32px;\n",
              "    padding: 0;\n",
              "    width: 32px;\n",
              "  }\n",
              "\n",
              "  .colab-df-quickchart:hover {\n",
              "    background-color: var(--hover-bg-color);\n",
              "    box-shadow: 0 1px 2px rgba(60, 64, 67, 0.3), 0 1px 3px 1px rgba(60, 64, 67, 0.15);\n",
              "    fill: var(--button-hover-fill-color);\n",
              "  }\n",
              "\n",
              "  .colab-df-quickchart-complete:disabled,\n",
              "  .colab-df-quickchart-complete:disabled:hover {\n",
              "    background-color: var(--disabled-bg-color);\n",
              "    fill: var(--disabled-fill-color);\n",
              "    box-shadow: none;\n",
              "  }\n",
              "\n",
              "  .colab-df-spinner {\n",
              "    border: 2px solid var(--fill-color);\n",
              "    border-color: transparent;\n",
              "    border-bottom-color: var(--fill-color);\n",
              "    animation:\n",
              "      spin 1s steps(1) infinite;\n",
              "  }\n",
              "\n",
              "  @keyframes spin {\n",
              "    0% {\n",
              "      border-color: transparent;\n",
              "      border-bottom-color: var(--fill-color);\n",
              "      border-left-color: var(--fill-color);\n",
              "    }\n",
              "    20% {\n",
              "      border-color: transparent;\n",
              "      border-left-color: var(--fill-color);\n",
              "      border-top-color: var(--fill-color);\n",
              "    }\n",
              "    30% {\n",
              "      border-color: transparent;\n",
              "      border-left-color: var(--fill-color);\n",
              "      border-top-color: var(--fill-color);\n",
              "      border-right-color: var(--fill-color);\n",
              "    }\n",
              "    40% {\n",
              "      border-color: transparent;\n",
              "      border-right-color: var(--fill-color);\n",
              "      border-top-color: var(--fill-color);\n",
              "    }\n",
              "    60% {\n",
              "      border-color: transparent;\n",
              "      border-right-color: var(--fill-color);\n",
              "    }\n",
              "    80% {\n",
              "      border-color: transparent;\n",
              "      border-right-color: var(--fill-color);\n",
              "      border-bottom-color: var(--fill-color);\n",
              "    }\n",
              "    90% {\n",
              "      border-color: transparent;\n",
              "      border-bottom-color: var(--fill-color);\n",
              "    }\n",
              "  }\n",
              "</style>\n",
              "\n",
              "  <script>\n",
              "    async function quickchart(key) {\n",
              "      const quickchartButtonEl =\n",
              "        document.querySelector('#' + key + ' button');\n",
              "      quickchartButtonEl.disabled = true;  // To prevent multiple clicks.\n",
              "      quickchartButtonEl.classList.add('colab-df-spinner');\n",
              "      try {\n",
              "        const charts = await google.colab.kernel.invokeFunction(\n",
              "            'suggestCharts', [key], {});\n",
              "      } catch (error) {\n",
              "        console.error('Error during call to suggestCharts:', error);\n",
              "      }\n",
              "      quickchartButtonEl.classList.remove('colab-df-spinner');\n",
              "      quickchartButtonEl.classList.add('colab-df-quickchart-complete');\n",
              "    }\n",
              "    (() => {\n",
              "      let quickchartButtonEl =\n",
              "        document.querySelector('#df-bebcf354-76b5-4fa3-8e3c-dde1c15514ea button');\n",
              "      quickchartButtonEl.style.display =\n",
              "        google.colab.kernel.accessAllowed ? 'block' : 'none';\n",
              "    })();\n",
              "  </script>\n",
              "</div>\n",
              "    </div>\n",
              "  </div>\n"
            ],
            "application/vnd.google.colaboratory.intrinsic+json": {
              "type": "dataframe",
              "summary": "{\n  \"name\": \"  print('\\\\n\\\\n\\\\n')\",\n  \"rows\": 5,\n  \"fields\": [\n    {\n      \"column\": \"client_id\",\n      \"properties\": {\n        \"dtype\": \"number\",\n        \"std\": 1626096,\n        \"min\": 1515915625468169594,\n        \"max\": 1515915625471138230,\n        \"num_unique_values\": 2,\n        \"samples\": [\n          1515915625471138230,\n          1515915625468169594\n        ],\n        \"semantic_type\": \"\",\n        \"description\": \"\"\n      }\n    },\n    {\n      \"column\": \"quantity\",\n      \"properties\": {\n        \"dtype\": \"number\",\n        \"std\": 0,\n        \"min\": 1,\n        \"max\": 1,\n        \"num_unique_values\": 1,\n        \"samples\": [\n          1\n        ],\n        \"semantic_type\": \"\",\n        \"description\": \"\"\n      }\n    },\n    {\n      \"column\": \"price\",\n      \"properties\": {\n        \"dtype\": \"number\",\n        \"std\": 1890.7670401189037,\n        \"min\": 1999.0,\n        \"max\": 6499.0,\n        \"num_unique_values\": 4,\n        \"samples\": [\n          2499.0\n        ],\n        \"semantic_type\": \"\",\n        \"description\": \"\"\n      }\n    },\n    {\n      \"column\": \"category_ids\",\n      \"properties\": {\n        \"dtype\": \"string\",\n        \"num_unique_values\": 3,\n        \"samples\": [\n          \"['4', '28', '57', '431']\"\n        ],\n        \"semantic_type\": \"\",\n        \"description\": \"\"\n      }\n    },\n    {\n      \"column\": \"date\",\n      \"properties\": {\n        \"dtype\": \"date\",\n        \"min\": \"2022-05-16 00:00:00\",\n        \"max\": \"2022-05-16 00:00:00\",\n        \"num_unique_values\": 1,\n        \"samples\": [\n          \"2022-05-16 00:00:00\"\n        ],\n        \"semantic_type\": \"\",\n        \"description\": \"\"\n      }\n    },\n    {\n      \"column\": \"message_id\",\n      \"properties\": {\n        \"dtype\": \"category\",\n        \"num_unique_values\": 2,\n        \"samples\": [\n          \"1515915625471138230-4437-6282242f27843\"\n        ],\n        \"semantic_type\": \"\",\n        \"description\": \"\"\n      }\n    }\n  ]\n}"
            }
          },
          "metadata": {}
        },
        {
          "output_type": "stream",
          "name": "stdout",
          "text": [
            "\n",
            "\n",
            "\n",
            "\n",
            "Датафрейм apparel_target:\n",
            "<class 'pandas.core.frame.DataFrame'>\n",
            "RangeIndex: 49849 entries, 0 to 49848\n",
            "Data columns (total 2 columns):\n",
            " #   Column     Non-Null Count  Dtype\n",
            "---  ------     --------------  -----\n",
            " 0   client_id  49849 non-null  int64\n",
            " 1   target     49849 non-null  int64\n",
            "dtypes: int64(2)\n",
            "memory usage: 779.0 KB\n"
          ]
        },
        {
          "output_type": "display_data",
          "data": {
            "text/plain": [
              "             client_id  target\n",
              "0  1515915625468060902       0\n",
              "1  1515915625468061003       1\n",
              "2  1515915625468061099       0\n",
              "3  1515915625468061100       0\n",
              "4  1515915625468061170       0"
            ],
            "text/html": [
              "\n",
              "  <div id=\"df-a93eebbb-37c6-4b31-aa54-4b54fd3ba41b\" class=\"colab-df-container\">\n",
              "    <div>\n",
              "<style scoped>\n",
              "    .dataframe tbody tr th:only-of-type {\n",
              "        vertical-align: middle;\n",
              "    }\n",
              "\n",
              "    .dataframe tbody tr th {\n",
              "        vertical-align: top;\n",
              "    }\n",
              "\n",
              "    .dataframe thead th {\n",
              "        text-align: right;\n",
              "    }\n",
              "</style>\n",
              "<table border=\"1\" class=\"dataframe\">\n",
              "  <thead>\n",
              "    <tr style=\"text-align: right;\">\n",
              "      <th></th>\n",
              "      <th>client_id</th>\n",
              "      <th>target</th>\n",
              "    </tr>\n",
              "  </thead>\n",
              "  <tbody>\n",
              "    <tr>\n",
              "      <th>0</th>\n",
              "      <td>1515915625468060902</td>\n",
              "      <td>0</td>\n",
              "    </tr>\n",
              "    <tr>\n",
              "      <th>1</th>\n",
              "      <td>1515915625468061003</td>\n",
              "      <td>1</td>\n",
              "    </tr>\n",
              "    <tr>\n",
              "      <th>2</th>\n",
              "      <td>1515915625468061099</td>\n",
              "      <td>0</td>\n",
              "    </tr>\n",
              "    <tr>\n",
              "      <th>3</th>\n",
              "      <td>1515915625468061100</td>\n",
              "      <td>0</td>\n",
              "    </tr>\n",
              "    <tr>\n",
              "      <th>4</th>\n",
              "      <td>1515915625468061170</td>\n",
              "      <td>0</td>\n",
              "    </tr>\n",
              "  </tbody>\n",
              "</table>\n",
              "</div>\n",
              "    <div class=\"colab-df-buttons\">\n",
              "\n",
              "  <div class=\"colab-df-container\">\n",
              "    <button class=\"colab-df-convert\" onclick=\"convertToInteractive('df-a93eebbb-37c6-4b31-aa54-4b54fd3ba41b')\"\n",
              "            title=\"Convert this dataframe to an interactive table.\"\n",
              "            style=\"display:none;\">\n",
              "\n",
              "  <svg xmlns=\"http://www.w3.org/2000/svg\" height=\"24px\" viewBox=\"0 -960 960 960\">\n",
              "    <path d=\"M120-120v-720h720v720H120Zm60-500h600v-160H180v160Zm220 220h160v-160H400v160Zm0 220h160v-160H400v160ZM180-400h160v-160H180v160Zm440 0h160v-160H620v160ZM180-180h160v-160H180v160Zm440 0h160v-160H620v160Z\"/>\n",
              "  </svg>\n",
              "    </button>\n",
              "\n",
              "  <style>\n",
              "    .colab-df-container {\n",
              "      display:flex;\n",
              "      gap: 12px;\n",
              "    }\n",
              "\n",
              "    .colab-df-convert {\n",
              "      background-color: #E8F0FE;\n",
              "      border: none;\n",
              "      border-radius: 50%;\n",
              "      cursor: pointer;\n",
              "      display: none;\n",
              "      fill: #1967D2;\n",
              "      height: 32px;\n",
              "      padding: 0 0 0 0;\n",
              "      width: 32px;\n",
              "    }\n",
              "\n",
              "    .colab-df-convert:hover {\n",
              "      background-color: #E2EBFA;\n",
              "      box-shadow: 0px 1px 2px rgba(60, 64, 67, 0.3), 0px 1px 3px 1px rgba(60, 64, 67, 0.15);\n",
              "      fill: #174EA6;\n",
              "    }\n",
              "\n",
              "    .colab-df-buttons div {\n",
              "      margin-bottom: 4px;\n",
              "    }\n",
              "\n",
              "    [theme=dark] .colab-df-convert {\n",
              "      background-color: #3B4455;\n",
              "      fill: #D2E3FC;\n",
              "    }\n",
              "\n",
              "    [theme=dark] .colab-df-convert:hover {\n",
              "      background-color: #434B5C;\n",
              "      box-shadow: 0px 1px 3px 1px rgba(0, 0, 0, 0.15);\n",
              "      filter: drop-shadow(0px 1px 2px rgba(0, 0, 0, 0.3));\n",
              "      fill: #FFFFFF;\n",
              "    }\n",
              "  </style>\n",
              "\n",
              "    <script>\n",
              "      const buttonEl =\n",
              "        document.querySelector('#df-a93eebbb-37c6-4b31-aa54-4b54fd3ba41b button.colab-df-convert');\n",
              "      buttonEl.style.display =\n",
              "        google.colab.kernel.accessAllowed ? 'block' : 'none';\n",
              "\n",
              "      async function convertToInteractive(key) {\n",
              "        const element = document.querySelector('#df-a93eebbb-37c6-4b31-aa54-4b54fd3ba41b');\n",
              "        const dataTable =\n",
              "          await google.colab.kernel.invokeFunction('convertToInteractive',\n",
              "                                                    [key], {});\n",
              "        if (!dataTable) return;\n",
              "\n",
              "        const docLinkHtml = 'Like what you see? Visit the ' +\n",
              "          '<a target=\"_blank\" href=https://colab.research.google.com/notebooks/data_table.ipynb>data table notebook</a>'\n",
              "          + ' to learn more about interactive tables.';\n",
              "        element.innerHTML = '';\n",
              "        dataTable['output_type'] = 'display_data';\n",
              "        await google.colab.output.renderOutput(dataTable, element);\n",
              "        const docLink = document.createElement('div');\n",
              "        docLink.innerHTML = docLinkHtml;\n",
              "        element.appendChild(docLink);\n",
              "      }\n",
              "    </script>\n",
              "  </div>\n",
              "\n",
              "\n",
              "<div id=\"df-54c0c5e8-dfc0-42e9-9849-b3c62b704f28\">\n",
              "  <button class=\"colab-df-quickchart\" onclick=\"quickchart('df-54c0c5e8-dfc0-42e9-9849-b3c62b704f28')\"\n",
              "            title=\"Suggest charts\"\n",
              "            style=\"display:none;\">\n",
              "\n",
              "<svg xmlns=\"http://www.w3.org/2000/svg\" height=\"24px\"viewBox=\"0 0 24 24\"\n",
              "     width=\"24px\">\n",
              "    <g>\n",
              "        <path d=\"M19 3H5c-1.1 0-2 .9-2 2v14c0 1.1.9 2 2 2h14c1.1 0 2-.9 2-2V5c0-1.1-.9-2-2-2zM9 17H7v-7h2v7zm4 0h-2V7h2v10zm4 0h-2v-4h2v4z\"/>\n",
              "    </g>\n",
              "</svg>\n",
              "  </button>\n",
              "\n",
              "<style>\n",
              "  .colab-df-quickchart {\n",
              "      --bg-color: #E8F0FE;\n",
              "      --fill-color: #1967D2;\n",
              "      --hover-bg-color: #E2EBFA;\n",
              "      --hover-fill-color: #174EA6;\n",
              "      --disabled-fill-color: #AAA;\n",
              "      --disabled-bg-color: #DDD;\n",
              "  }\n",
              "\n",
              "  [theme=dark] .colab-df-quickchart {\n",
              "      --bg-color: #3B4455;\n",
              "      --fill-color: #D2E3FC;\n",
              "      --hover-bg-color: #434B5C;\n",
              "      --hover-fill-color: #FFFFFF;\n",
              "      --disabled-bg-color: #3B4455;\n",
              "      --disabled-fill-color: #666;\n",
              "  }\n",
              "\n",
              "  .colab-df-quickchart {\n",
              "    background-color: var(--bg-color);\n",
              "    border: none;\n",
              "    border-radius: 50%;\n",
              "    cursor: pointer;\n",
              "    display: none;\n",
              "    fill: var(--fill-color);\n",
              "    height: 32px;\n",
              "    padding: 0;\n",
              "    width: 32px;\n",
              "  }\n",
              "\n",
              "  .colab-df-quickchart:hover {\n",
              "    background-color: var(--hover-bg-color);\n",
              "    box-shadow: 0 1px 2px rgba(60, 64, 67, 0.3), 0 1px 3px 1px rgba(60, 64, 67, 0.15);\n",
              "    fill: var(--button-hover-fill-color);\n",
              "  }\n",
              "\n",
              "  .colab-df-quickchart-complete:disabled,\n",
              "  .colab-df-quickchart-complete:disabled:hover {\n",
              "    background-color: var(--disabled-bg-color);\n",
              "    fill: var(--disabled-fill-color);\n",
              "    box-shadow: none;\n",
              "  }\n",
              "\n",
              "  .colab-df-spinner {\n",
              "    border: 2px solid var(--fill-color);\n",
              "    border-color: transparent;\n",
              "    border-bottom-color: var(--fill-color);\n",
              "    animation:\n",
              "      spin 1s steps(1) infinite;\n",
              "  }\n",
              "\n",
              "  @keyframes spin {\n",
              "    0% {\n",
              "      border-color: transparent;\n",
              "      border-bottom-color: var(--fill-color);\n",
              "      border-left-color: var(--fill-color);\n",
              "    }\n",
              "    20% {\n",
              "      border-color: transparent;\n",
              "      border-left-color: var(--fill-color);\n",
              "      border-top-color: var(--fill-color);\n",
              "    }\n",
              "    30% {\n",
              "      border-color: transparent;\n",
              "      border-left-color: var(--fill-color);\n",
              "      border-top-color: var(--fill-color);\n",
              "      border-right-color: var(--fill-color);\n",
              "    }\n",
              "    40% {\n",
              "      border-color: transparent;\n",
              "      border-right-color: var(--fill-color);\n",
              "      border-top-color: var(--fill-color);\n",
              "    }\n",
              "    60% {\n",
              "      border-color: transparent;\n",
              "      border-right-color: var(--fill-color);\n",
              "    }\n",
              "    80% {\n",
              "      border-color: transparent;\n",
              "      border-right-color: var(--fill-color);\n",
              "      border-bottom-color: var(--fill-color);\n",
              "    }\n",
              "    90% {\n",
              "      border-color: transparent;\n",
              "      border-bottom-color: var(--fill-color);\n",
              "    }\n",
              "  }\n",
              "</style>\n",
              "\n",
              "  <script>\n",
              "    async function quickchart(key) {\n",
              "      const quickchartButtonEl =\n",
              "        document.querySelector('#' + key + ' button');\n",
              "      quickchartButtonEl.disabled = true;  // To prevent multiple clicks.\n",
              "      quickchartButtonEl.classList.add('colab-df-spinner');\n",
              "      try {\n",
              "        const charts = await google.colab.kernel.invokeFunction(\n",
              "            'suggestCharts', [key], {});\n",
              "      } catch (error) {\n",
              "        console.error('Error during call to suggestCharts:', error);\n",
              "      }\n",
              "      quickchartButtonEl.classList.remove('colab-df-spinner');\n",
              "      quickchartButtonEl.classList.add('colab-df-quickchart-complete');\n",
              "    }\n",
              "    (() => {\n",
              "      let quickchartButtonEl =\n",
              "        document.querySelector('#df-54c0c5e8-dfc0-42e9-9849-b3c62b704f28 button');\n",
              "      quickchartButtonEl.style.display =\n",
              "        google.colab.kernel.accessAllowed ? 'block' : 'none';\n",
              "    })();\n",
              "  </script>\n",
              "</div>\n",
              "    </div>\n",
              "  </div>\n"
            ],
            "application/vnd.google.colaboratory.intrinsic+json": {
              "type": "dataframe",
              "summary": "{\n  \"name\": \"  print('\\\\n\\\\n\\\\n')\",\n  \"rows\": 5,\n  \"fields\": [\n    {\n      \"column\": \"client_id\",\n      \"properties\": {\n        \"dtype\": \"number\",\n        \"std\": 181,\n        \"min\": 1515915625468060902,\n        \"max\": 1515915625468061170,\n        \"num_unique_values\": 5,\n        \"samples\": [\n          1515915625468061003,\n          1515915625468061170,\n          1515915625468061099\n        ],\n        \"semantic_type\": \"\",\n        \"description\": \"\"\n      }\n    },\n    {\n      \"column\": \"target\",\n      \"properties\": {\n        \"dtype\": \"number\",\n        \"std\": 0,\n        \"min\": 0,\n        \"max\": 1,\n        \"num_unique_values\": 2,\n        \"samples\": [\n          1,\n          0\n        ],\n        \"semantic_type\": \"\",\n        \"description\": \"\"\n      }\n    }\n  ]\n}"
            }
          },
          "metadata": {}
        },
        {
          "output_type": "stream",
          "name": "stdout",
          "text": [
            "\n",
            "\n",
            "\n",
            "\n"
          ]
        }
      ]
    },
    {
      "cell_type": "markdown",
      "source": [
        "Все столбцы имеют корректные типы данных. Для признаков event и channel датафрейма apparel_messages выполним проверку на наличие опечаток:"
      ],
      "metadata": {
        "id": "5XcSoZ_IzPHh"
      }
    },
    {
      "cell_type": "code",
      "source": [
        "for column in ['event', 'channel']:\n",
        "    print(f'Уникальные значения в столбце {str(column)}:')\n",
        "    print(apparel_messages[column].sort_values().unique(), '\\n')"
      ],
      "metadata": {
        "colab": {
          "base_uri": "https://localhost:8080/"
        },
        "id": "8D1eWaASy1qo",
        "outputId": "f84339b7-f784-4031-b3ba-d6388d9d0bd6"
      },
      "execution_count": 6,
      "outputs": [
        {
          "output_type": "stream",
          "name": "stdout",
          "text": [
            "Уникальные значения в столбце event:\n",
            "['click' 'close' 'complain' 'hard_bounce' 'hbq_spam' 'open' 'purchase'\n",
            " 'send' 'soft_bounce' 'subscribe' 'unsubscribe'] \n",
            "\n",
            "Уникальные значения в столбце channel:\n",
            "['email' 'mobile_push'] \n",
            "\n"
          ]
        }
      ]
    },
    {
      "cell_type": "markdown",
      "source": [
        "Опечаток не обнаружено."
      ],
      "metadata": {
        "id": "1MMaf5ZXQOhF"
      }
    },
    {
      "cell_type": "markdown",
      "source": [
        "Также проверим на корректность данные в category_ids датафрейма apparel_purchases:"
      ],
      "metadata": {
        "id": "tmzltmb7OOa5"
      }
    },
    {
      "cell_type": "code",
      "source": [
        "print(apparel_purchases['category_ids'].sort_values().unique())"
      ],
      "metadata": {
        "colab": {
          "base_uri": "https://localhost:8080/"
        },
        "id": "XO9FOZd0ONqo",
        "outputId": "c66a422b-7fad-4c19-bf19-0ae97a9ee4a2"
      },
      "execution_count": 7,
      "outputs": [
        {
          "output_type": "stream",
          "name": "stdout",
          "text": [
            "[\"['1', '22', '50', '685']\" \"['1', '8', '280', '710']\"\n",
            " \"['2', '17', '107', '453']\" \"['2', '17', '137', '469']\"\n",
            " \"['2', '17', '171', '475']\" \"['2', '17', '173', '1598']\"\n",
            " \"['2', '17', '173', '1845']\" \"['2', '17', '173', '459']\"\n",
            " \"['2', '17', '180', '465']\" \"['2', '17', '1826', '1818']\"\n",
            " \"['2', '17', '188', '525']\" \"['2', '17', '198', '497']\"\n",
            " \"['2', '17', '232', '463']\" \"['2', '17', '279', '5807']\"\n",
            " \"['2', '17', '286', '455']\" \"['2', '17', '293', '5819']\"\n",
            " \"['2', '17', '330', '387', '467']\" \"['2', '17', '83', '519']\"\n",
            " \"['2', '17', '83', '5810']\" \"['2', '18', '123', '451']\"\n",
            " \"['2', '18', '155', '1325']\" \"['2', '18', '155', '439']\"\n",
            " \"['2', '18', '212', '658']\" \"['2', '18', '212', '659']\"\n",
            " \"['2', '18', '212', '726']\" \"['2', '18', '217', '662']\"\n",
            " \"['2', '18', '217', '663']\" \"['2', '18', '243', '440']\"\n",
            " \"['2', '18', '248', '449']\" \"['2', '18', '248', '677']\"\n",
            " \"['2', '18', '258', '1195']\" \"['2', '18', '258', '1561']\"\n",
            " \"['2', '18', '258', '1562']\" \"['2', '18', '258', '1569']\"\n",
            " \"['2', '18', '258', '1590']\" \"['2', '18', '258', '441']\"\n",
            " \"['2', '18', '267', '1330']\" \"['2', '18', '267', '1592']\"\n",
            " \"['2', '18', '267', '1597']\" \"['2', '18', '267', '442']\"\n",
            " \"['2', '18', '267', '443']\" \"['2', '18', '267', '6201']\"\n",
            " \"['2', '18', '274', '446']\" \"['2', '18', '274', '450']\"\n",
            " \"['2', '18', '341', '1311']\" \"['2', '18', '344', '445']\"\n",
            " \"['2', '18', '61', '660']\" \"['2', '18', '61', '661']\"\n",
            " \"['3', '12', '219', '1083']\" \"['3', '14', '79', '1169']\"\n",
            " \"['4', '1822', '1821', '1613']\" \"['4', '1822', '1821', '1814']\"\n",
            " \"['4', '1822', '1821', '1815']\" \"['4', '1822', '1821', '1816']\"\n",
            " \"['4', '1822', '1821', '5511']\" \"['4', '1822', '1821', '5822']\"\n",
            " \"['4', '1822', '1821', '5988']\" \"['4', '1822', '1821', '6036']\"\n",
            " \"['4', '1822', '1821', '6037']\" \"['4', '1822', '1821', '6038']\"\n",
            " \"['4', '1822', '1821', '6039']\" \"['4', '1822', '1821', '6050']\"\n",
            " \"['4', '1822', '1823', '1819']\" \"['4', '1822', '1823', '1820']\"\n",
            " \"['4', '1822', '1823', '6234']\" \"['4', '1822', '1824', '1615']\"\n",
            " \"['4', '1822', '1824', '1616']\" \"['4', '1822', '1824', '1618']\"\n",
            " \"['4', '1822', '1824', '1619']\" \"['4', '1822', '1824', '1620']\"\n",
            " \"['4', '1822', '1824', '1621']\" \"['4', '1822', '1824', '1623']\"\n",
            " \"['4', '1822', '1824', '1624']\" \"['4', '1822', '1824', '1625']\"\n",
            " \"['4', '1822', '1824', '1626']\" \"['4', '1822', '1824', '1813']\"\n",
            " \"['4', '1822', '1824', '1847']\" \"['4', '1822', '1827', '1817']\"\n",
            " \"['4', '1822', '38', '478']\" \"['4', '1822', '38', '479']\"\n",
            " \"['4', '1822', '38', '480']\" \"['4', '1822', '38', '481']\"\n",
            " \"['4', '1822', '38', '482']\" \"['4', '1822', '38', '597']\"\n",
            " \"['4', '1822', '499']\" \"['4', '1822', '5984', '5480']\"\n",
            " \"['4', '1822', '5984', '5481']\" \"['4', '1822', '5984', '5532']\"\n",
            " \"['4', '1822', '5984', '5816']\" \"['4', '1822', '5984', '5936']\"\n",
            " \"['4', '1822', '5984', '5937']\" \"['4', '1822', '5984', '6018']\"\n",
            " \"['4', '1822', '5984', '6019']\" \"['4', '1822', '5985', '1847']\"\n",
            " \"['4', '1822', '5985', '471']\" \"['4', '1822', '5985', '476']\"\n",
            " \"['4', '1822', '5985', '644']\" \"['4', '1822', '5985', '645']\"\n",
            " \"['4', '1822', '6265', '6045']\" \"['4', '1822', '6265', '6109']\"\n",
            " \"['4', '1822', '6309', '6036']\" \"['4', '1822', '6309', '6038']\"\n",
            " \"['4', '1822', '6309', '6039']\" \"['4', '27', '108', '452']\"\n",
            " \"['4', '27', '138', '1355']\" \"['4', '27', '138', '468']\"\n",
            " \"['4', '27', '138', '720']\" \"['4', '27', '142', '496']\"\n",
            " \"['4', '27', '172', '474']\" \"['4', '27', '176', '1313']\"\n",
            " \"['4', '27', '176', '1844']\" \"['4', '27', '176', '458']\"\n",
            " \"['4', '27', '176', '460']\" \"['4', '27', '176', '520']\"\n",
            " \"['4', '27', '176', '522']\" \"['4', '27', '176', '523']\"\n",
            " \"['4', '27', '176', '524']\" \"['4', '27', '181', '464']\"\n",
            " \"['4', '27', '181', '722']\" \"['4', '27', '181', '723']\"\n",
            " \"['4', '27', '1828', '1572']\" \"['4', '27', '1828', '1599']\"\n",
            " \"['4', '27', '1828', '1603']\" \"['4', '27', '1828', '1604']\"\n",
            " \"['4', '27', '1828', '1605']\" \"['4', '27', '1828', '1606']\"\n",
            " \"['4', '27', '1828', '1612']\" \"['4', '27', '1828', '5717']\"\n",
            " \"['4', '27', '1828', '5803']\" \"['4', '27', '1828', '5804']\"\n",
            " \"['4', '27', '186', '526']\" \"['4', '27', '186', '527']\"\n",
            " \"['4', '27', '202', '701']\" \"['4', '27', '205', '1081']\"\n",
            " \"['4', '27', '205', '650']\" \"['4', '27', '205', '868']\"\n",
            " \"['4', '27', '233', '462']\" \"['4', '27', '278', '1556']\"\n",
            " \"['4', '27', '278', '1613']\" \"['4', '27', '278', '470']\"\n",
            " \"['4', '27', '278', '471']\" \"['4', '27', '278', '472']\"\n",
            " \"['4', '27', '278', '473']\" \"['4', '27', '278', '476']\"\n",
            " \"['4', '27', '278', '477']\" \"['4', '27', '278', '586']\"\n",
            " \"['4', '27', '278', '644']\" \"['4', '27', '278', '864']\"\n",
            " \"['4', '27', '282', '596']\" \"['4', '27', '287', '509']\"\n",
            " \"['4', '27', '287', '510']\" \"['4', '27', '287', '513']\"\n",
            " \"['4', '27', '287', '544']\" \"['4', '27', '287', '546']\"\n",
            " \"['4', '27', '336', '1854']\" \"['4', '27', '350', '1392']\"\n",
            " \"['4', '27', '350', '1589']\" \"['4', '27', '353', '1610']\"\n",
            " \"['4', '27', '353', '1798']\" \"['4', '27', '353', '1799']\"\n",
            " \"['4', '27', '353', '1800']\" \"['4', '27', '353', '840']\"\n",
            " \"['4', '27', '38', '478']\" \"['4', '27', '38', '479']\"\n",
            " \"['4', '27', '38', '480']\" \"['4', '27', '38', '481']\"\n",
            " \"['4', '27', '38', '482']\" \"['4', '27', '84', '1382']\"\n",
            " \"['4', '27', '84', '1595']\" \"['4', '27', '84', '456']\"\n",
            " \"['4', '27', '84', '515']\" \"['4', '27', '84', '568']\"\n",
            " \"['4', '28', '104', '429']\" \"['4', '28', '124', '1602']\"\n",
            " \"['4', '28', '124', '415']\" \"['4', '28', '146', '1587']\"\n",
            " \"['4', '28', '146', '548']\" \"['4', '28', '156', '1586']\"\n",
            " \"['4', '28', '156', '416']\" \"['4', '28', '213', '417']\"\n",
            " \"['4', '28', '213', '436']\" \"['4', '28', '218', '652']\"\n",
            " \"['4', '28', '218', '653']\" \"['4', '28', '228', '1596']\"\n",
            " \"['4', '28', '228', '435']\" \"['4', '28', '239', '1622']\"\n",
            " \"['4', '28', '239', '1844']\" \"['4', '28', '239', '418']\"\n",
            " \"['4', '28', '239', '6202']\" \"['4', '28', '244', '432']\"\n",
            " \"['4', '28', '249', '615']\" \"['4', '28', '249', '616']\"\n",
            " \"['4', '28', '254', '680']\" \"['4', '28', '260', '1194']\"\n",
            " \"['4', '28', '260', '1568']\" \"['4', '28', '260', '1570']\"\n",
            " \"['4', '28', '260', '420']\" \"['4', '28', '275', '1305']\"\n",
            " \"['4', '28', '275', '421']\" \"['4', '28', '275', '673']\"\n",
            " \"['4', '28', '290', '1329']\" \"['4', '28', '290', '422']\"\n",
            " \"['4', '28', '290', '424']\" \"['4', '28', '290', '547']\"\n",
            " \"['4', '28', '304', '423']\" \"['4', '28', '340', '1312']\"\n",
            " \"['4', '28', '343', '1602']\" \"['4', '28', '343', '425']\"\n",
            " \"['4', '28', '44', '1097']\" \"['4', '28', '44', '1564']\"\n",
            " \"['4', '28', '44', '1571']\" \"['4', '28', '44', '1593']\"\n",
            " \"['4', '28', '44', '1594']\" \"['4', '28', '44', '428']\"\n",
            " \"['4', '28', '44', '430']\" \"['4', '28', '44', '489']\"\n",
            " \"['4', '28', '44', '490']\" \"['4', '28', '44', '491']\"\n",
            " \"['4', '28', '44', '492']\" \"['4', '28', '44', '493']\"\n",
            " \"['4', '28', '44', '494']\" \"['4', '28', '44', '499']\"\n",
            " \"['4', '28', '44', '501']\" \"['4', '28', '44', '528']\"\n",
            " \"['4', '28', '44', '549']\" \"['4', '28', '44', '989']\"\n",
            " \"['4', '28', '49', '413']\" \"['4', '28', '49', '684']\"\n",
            " \"['4', '28', '57', '431']\" \"['4', '28', '58', '1560']\"\n",
            " \"['4', '28', '58', '434']\" \"['4', '28', '62', '656']\"\n",
            " \"['4', '28', '62', '657']\" \"['4', '28', '63', '654']\"\n",
            " \"['4', '28', '63', '655']\" \"['4', '29', '309', '1578']\"\n",
            " \"['4', '29', '309', '1835']\" \"['4', '29', '309', '5796']\"\n",
            " \"['4', '29', '309', '939']\" \"['4', '29', '310', '1577']\"\n",
            " \"['4', '29', '310', '1833']\" \"['4', '29', '310', '1834']\"\n",
            " \"['4', '29', '310', '500']\" \"['4', '29', '311', '1575']\"\n",
            " \"['4', '29', '311', '1836']\" \"['4', '29', '311', '5797']\"\n",
            " \"['4', '29', '311', '928']\" \"['4', '29', '312', '1576']\"\n",
            " \"['4', '29', '312', '1581']\" \"['4', '29', '312', '1837']\"\n",
            " \"['4', '29', '312', '5508']\" \"['4', '29', '312', '934']\"\n",
            " \"['4', '29', '313', '1574']\" \"['4', '29', '313', '5798']\"\n",
            " \"['4', '29', '313', '938']\" \"['4', '29', '314', '1398']\"\n",
            " \"['4', '29', '314', '1579']\" \"['4', '29', '339', '1559']\"\n",
            " \"['4', '29', '347', '1318']\" \"['4', '29', '503']\"\n",
            " \"['4', '30', '315', '541']\" \"['4', '30', '503']\"\n",
            " \"['4', '31', '324', '1431']\" \"['4', '31', '324', '1432']\"\n",
            " \"['4', '31', '324', '466']\" \"['4', '31', '324', '5813']\"\n",
            " \"['4', '31', '324', '879']\" \"['4', '31', '326', '505']\"\n",
            " \"['4', '31', '327', '507']\" \"['4', '31', '328', '567']\"\n",
            " \"['4', '31', '329', '506']\" \"['4', '44', '1097']\" \"['4', '44', '1381']\"\n",
            " \"['4', '44', '1564']\" \"['4', '44', '1571']\" \"['4', '44', '1594']\"\n",
            " \"['4', '44', '1600']\" \"['4', '44', '428']\" \"['4', '44', '430']\"\n",
            " \"['4', '44', '489']\" \"['4', '44', '490']\" \"['4', '44', '491']\"\n",
            " \"['4', '44', '492']\" \"['4', '44', '493']\" \"['4', '44', '494']\"\n",
            " \"['4', '44', '501']\" \"['4', '44', '528']\" \"['4', '44', '549']\"\n",
            " \"['4', '44', '989']\" \"['4', '5837', '5836', '1047']\"\n",
            " \"['4', '5837', '5836', '1167']\" \"['4', '5837', '5836', '1357']\"\n",
            " \"['4', '5837', '5836', '1567']\" \"['4', '5837', '5836', '1601']\"\n",
            " \"['4', '5837', '5836', '839']\" \"['4', '5837', '5838', '1168']\"\n",
            " \"['4', '5837', '5838', '1565']\" \"['4', '5837', '5838', '1566']\"\n",
            " \"['4', '5837', '5838', '1584']\" \"['4', '5837', '5838', '1585']\"\n",
            " \"['4', '5837', '5838', '1848']\" \"['4', '5837', '5838', '5498']\"\n",
            " \"['4', '5837', '5838', '5499']\" \"['4', '5837', '5838', '5500']\"\n",
            " \"['4', '5837', '5838', '5501']\" \"['4', '5837', '5838', '5502']\"\n",
            " \"['4', '5837', '5838', '5503']\" \"['4', '5837', '5838', '5504']\"\n",
            " \"['4', '5837', '5838', '5505']\" \"['4', '5837', '5838', '5720']\"\n",
            " \"['4', '5837', '5838', '5834']\" \"['4', '5837', '5838', '5835']\"\n",
            " \"['4', '5837', '5838', '5956']\" \"['4', '5837', '6013', '1153']\"\n",
            " \"['4', '5837', '6013', '1607']\" \"['4', '5837', '6013', '1853']\"\n",
            " \"['4', '5837', '6013', '1855']\" \"['4', '5837', '6013', '1856']\"\n",
            " \"['4', '5837', '6013', '1857']\" \"['4', '5837', '6013', '863']\"\n",
            " \"['5', '10', '105', '1794']\" \"['5562', '5536', '5535', '1563']\"\n",
            " \"['5562', '5536', '5535', '1573']\" \"['5562', '5536', '5535', '856']\"\n",
            " \"['5562', '5536', '5537', '841']\" \"['5562', '5536', '5537', '842']\"\n",
            " \"['5562', '5536', '5537', '843']\" \"['5562', '5536', '5537', '844']\"\n",
            " \"['5562', '5536', '5537', '845']\" \"['5562', '5536', '5537', '846']\"\n",
            " \"['5562', '5536', '5542', '1799']\" \"['5562', '5536', '5544', '854']\"\n",
            " \"['5562', '5536', '5580', '963']\" \"['5562', '5536', '5581', '1420']\"\n",
            " \"['5562', '5536', '5581', '1421']\" \"['5562', '5536', '5581', '1591']\"\n",
            " \"['5562', '5536', '5581', '601']\" \"['5562', '5536', '5581', '602']\"\n",
            " \"['5562', '5536', '5581', '619']\" \"['5562', '5536', '5581', '620']\"\n",
            " \"['5562', '5536', '5581', '792']\" \"['5562', '5536', '5581', '930']\"\n",
            " \"['5562', '5536', '5581', '933']\" \"['5562', '5536', '5581', '954']\"\n",
            " \"['5562', '5536', '5581', '956']\" \"['5562', '5536', '5656', '614']\"\n",
            " \"['5562', '5536', '5658', '1302']\" \"['5562', '5536', '5658', '724']\"\n",
            " \"['5562', '5536', '5658', '725']\" \"['5562', '5536', '5680', '575']\"\n",
            " \"['5562', '5536', '5680', '576']\" \"['5562', '5536', '5685', '569']\"\n",
            " \"['5562', '5536', '5685', '570']\" \"['5562', '5536', '5685', '6323']\"\n",
            " \"['5562', '5536', '5685', '651']\" \"['5562', '5536', '5685', '727']\"\n",
            " \"['5562', '5536', '5685', '857']\" \"['5562', '5536', '5702', '623']\"\n",
            " \"['5562', '5536', '5702', '624']\" \"['5562', '5536', '5702', '625']\"\n",
            " \"['5562', '5536', '5702', '626']\" \"['5562', '5536', '5707', '1173']\"\n",
            " \"['5562', '5536', '5712', '1140']\" \"['5562', '5536', '5712', '1846']\"\n",
            " \"['5562', '5536', '5714', '1588']\" \"['5562', '5536', '5714', '577']\"\n",
            " \"['5562', '5536', '5829', '1679']\" \"['5562', '5536', '5829', '447']\"\n",
            " \"['5562', '5558', '5559', '1094']\" \"['5562', '5558', '5559', '1100']\"\n",
            " \"['5562', '5558', '5560', '1110']\" \"['5562', '5558', '5561', '1631']\"\n",
            " \"['5562', '5558', '5582', '1111']\" \"['5562', '5558', '5590', '1055']\"\n",
            " \"['5562', '5558', '5617', '1102']\" \"['5562', '5558', '5618', '1083']\"\n",
            " \"['5562', '5558', '5618', '1088']\" \"['5562', '5558', '5618', '1091']\"\n",
            " \"['5562', '5558', '5618', '878']\" \"['5562', '5558', '5620', '1791']\"\n",
            " \"['5562', '5558', '5635', '1012']\" \"['5562', '5558', '5655', '1145']\"\n",
            " \"['5562', '5558', '5655', '1146']\" \"['5562', '5558', '5655', '1147']\"\n",
            " \"['5562', '5558', '5655', '1149']\" \"['5562', '5558', '5655', '1787']\"\n",
            " \"['5562', '5558', '5684', '1104']\" \"['5562', '5558', '5684', '1108']\"\n",
            " \"['5562', '5558', '5711', '1128']\" \"['5562', '5589', '5563', '1684']\"\n",
            " \"['5562', '5589', '5563', '1732']\" \"['5562', '5589', '5563', '1733']\"\n",
            " \"['5562', '5589', '5563', '1734']\" \"['5562', '5589', '5563', '1735']\"\n",
            " \"['5562', '5589', '5563', '1807']\" \"['5562', '5589', '5563', '1808']\"\n",
            " \"['5562', '5589', '5563', '1811']\" \"['5562', '5589', '5576', '1239']\"\n",
            " \"['5562', '5589', '5576', '1681']\" \"['5562', '5589', '5576', '1682']\"\n",
            " \"['5562', '5589', '5576', '1683']\" \"['5562', '5589', '5576', '1703']\"\n",
            " \"['5562', '5589', '5576', '1705']\" \"['5562', '5589', '5576', '1706']\"\n",
            " \"['5562', '5589', '5576', '1794']\" \"['5562', '5589', '5584', '1783']\"\n",
            " \"['5562', '5589', '5584', '1784']\" \"['5562', '5589', '5584', '1785']\"\n",
            " \"['5562', '5589', '5584', '1786']\" \"['5562', '5589', '5584', '1787']\"\n",
            " \"['5562', '5589', '5584', '1795']\" \"['5562', '5589', '5584', '1796']\"\n",
            " \"['5562', '5589', '5586', '1766']\" \"['5562', '5589', '5586', '1767']\"\n",
            " \"['5562', '5589', '5586', '1768']\" \"['5562', '5589', '5586', '1769']\"\n",
            " \"['5562', '5589', '5586', '1771']\" \"['5562', '5589', '5587', '1699']\"\n",
            " \"['5562', '5589', '5587', '1700']\" \"['5562', '5589', '5587', '1701']\"\n",
            " \"['5562', '5589', '5587', '1702']\" \"['5562', '5589', '5587', '1704']\"\n",
            " \"['5562', '5589', '5587', '1707']\" \"['5562', '5589', '5587', '1708']\"\n",
            " \"['5562', '5589', '5587', '1765']\" \"['5562', '5589', '5588', '1001']\"\n",
            " \"['5562', '5589', '5588', '1778']\" \"['5562', '5589', '5588', '1779']\"\n",
            " \"['5562', '5589', '5588', '1780']\" \"['5562', '5589', '5588', '1781']\"\n",
            " \"['5562', '5589', '5588', '1782']\" \"['5562', '5589', '5588', '1809']\"\n",
            " \"['5562', '5589', '5588', '6166']\" \"['5562', '5589', '5588', '993']\"\n",
            " \"['5562', '5589', '5588', '994']\" \"['5562', '5589', '5588', '995']\"\n",
            " \"['5562', '5589', '5605', '1710']\" \"['5562', '5589', '5605', '1711']\"\n",
            " \"['5562', '5589', '5605', '1712']\" \"['5562', '5589', '5605', '1713']\"\n",
            " \"['5562', '5589', '5610', '1635']\" \"['5562', '5589', '5610', '1636']\"\n",
            " \"['5562', '5589', '5610', '1637']\" \"['5562', '5589', '5610', '1638']\"\n",
            " \"['5562', '5589', '5610', '1639']\" \"['5562', '5589', '5610', '1659']\"\n",
            " \"['5562', '5589', '5610', '1660']\" \"['5562', '5589', '5610', '1661']\"\n",
            " \"['5562', '5589', '5610', '1662']\" \"['5562', '5589', '5610', '1663']\"\n",
            " \"['5562', '5589', '5610', '1664']\" \"['5562', '5589', '5610', '1665']\"\n",
            " \"['5562', '5589', '5613', '1714']\" \"['5562', '5589', '5613', '1715']\"\n",
            " \"['5562', '5589', '5613', '1716']\" \"['5562', '5589', '5613', '1717']\"\n",
            " \"['5562', '5589', '5613', '1718']\" \"['5562', '5589', '5613', '1719']\"\n",
            " \"['5562', '5589', '5613', '1720']\" \"['5562', '5589', '5613', '1722']\"\n",
            " \"['5562', '5589', '5613', '1724']\" \"['5562', '5589', '5613', '1726']\"\n",
            " \"['5562', '5589', '5613', '1727']\" \"['5562', '5589', '5613', '1728']\"\n",
            " \"['5562', '5589', '5613', '1729']\" \"['5562', '5589', '5619', '1685']\"\n",
            " \"['5562', '5589', '5623', '1772']\" \"['5562', '5589', '5623', '1773']\"\n",
            " \"['5562', '5589', '5623', '1774']\" \"['5562', '5589', '5623', '1775']\"\n",
            " \"['5562', '5589', '5623', '1777']\" \"['5562', '5589', '5624', '1686']\"\n",
            " \"['5562', '5589', '5624', '1687']\" \"['5562', '5589', '5624', '1689']\"\n",
            " \"['5562', '5589', '5624', '1690']\" \"['5562', '5589', '5624', '1695']\"\n",
            " \"['5562', '5589', '5624', '1696']\" \"['5562', '5589', '5624', '1697']\"\n",
            " \"['5562', '5589', '5624', '1698']\" \"['5562', '5589', '5624', '1788']\"\n",
            " \"['5562', '5589', '5624', '1789']\" \"['5562', '5589', '5624', '1790']\"\n",
            " \"['5562', '5589', '5624', '1792']\" \"['5562', '5589', '5624', '1793']\"\n",
            " \"['5562', '5589', '5624', '5739']\" \"['5562', '5589', '5624', '764']\"\n",
            " \"['5562', '5589', '5661', '1805']\" \"['5562', '5589', '5661', '1806']\"\n",
            " \"['5562', '5589', '5661', '1810']\" \"['5562', '5589', '5686', '1667']\"\n",
            " \"['5562', '5589', '5686', '1668']\" \"['5562', '5589', '5686', '1669']\"\n",
            " \"['5562', '5589', '5686', '1670']\" \"['5562', '5589', '5686', '1672']\"\n",
            " \"['5562', '5589', '5686', '1673']\" \"['5562', '5589', '5686', '1674']\"\n",
            " \"['5562', '5589', '5686', '1675']\" \"['5562', '5589', '5686', '1676']\"\n",
            " \"['5562', '5589', '5686', '1677']\" \"['5562', '5589', '5686', '1678']\"\n",
            " \"['5562', '5589', '6047', '1691']\" \"['5562', '5589', '6047', '5726']\"\n",
            " \"['5562', '5589', '6047', '5738']\" \"['5562', '5597', '5540', '5779']\"\n",
            " \"['5562', '5597', '5540', '914']\" \"['5562', '5597', '5540', '915']\"\n",
            " \"['5562', '5597', '5540', '916']\" \"['5562', '5597', '5565', '1214']\"\n",
            " \"['5562', '5597', '5566', '5514']\" \"['5562', '5597', '5566', '5519']\"\n",
            " \"['5562', '5597', '5566', '913']\" \"['5562', '5597', '5573', '5789']\"\n",
            " \"['5562', '5597', '5583', '1426']\" \"['5562', '5597', '5583', '1764']\"\n",
            " \"['5562', '5597', '5596', '1424']\" \"['5562', '5597', '5596', '1428']\"\n",
            " \"['5562', '5597', '5596', '917']\" \"['5562', '5597', '5614', '1688']\"\n",
            " \"['5562', '5597', '5614', '1691']\" \"['5562', '5597', '5614', '1694']\"\n",
            " \"['5562', '5597', '5614', '5740']\" \"['5562', '5597', '5614', '919']\"\n",
            " \"['5562', '5597', '5629', '1419']\" \"['5562', '5597', '5629', '1427']\"\n",
            " \"['5562', '5597', '5629', '5781']\" \"['5562', '5597', '5629', '5783']\"\n",
            " \"['5562', '5597', '5629', '5785']\" \"['5562', '5597', '5629', '5786']\"\n",
            " \"['5562', '5597', '5629', '5787']\" \"['5562', '5597', '5629', '5788']\"\n",
            " \"['5562', '5597', '5637', '1213']\" \"['5562', '5597', '5637', '890']\"\n",
            " \"['5562', '5597', '5637', '896']\" \"['5562', '5597', '5637', '905']\"\n",
            " \"['5562', '5597', '5642', '1215']\" \"['5562', '5597', '5642', '1216']\"\n",
            " \"['5562', '5597', '5642', '1217']\" \"['5562', '5597', '5642', '1218']\"\n",
            " \"['5562', '5597', '5642', '1219']\" \"['5562', '5597', '5642', '1220']\"\n",
            " \"['5562', '5597', '5642', '1221']\" \"['5562', '5597', '5642', '1222']\"\n",
            " \"['5562', '5597', '5642', '1223']\" \"['5562', '5597', '5642', '1224']\"\n",
            " \"['5562', '5597', '5642', '5520']\" \"['5562', '5597', '5642', '882']\"\n",
            " \"['5562', '5597', '5642', '883']\" \"['5562', '5597', '5642', '885']\"\n",
            " \"['5562', '5597', '5642', '886']\" \"['5562', '5597', '5642', '887']\"\n",
            " \"['5562', '5597', '5642', '899']\" \"['5562', '5597', '5642', '900']\"\n",
            " \"['5562', '5597', '5642', '901']\" \"['5562', '5597', '5691', '888']\"\n",
            " \"['5562', '5597', '5691', '889']\" \"['5562', '5597', '5696', '1418']\"\n",
            " \"['5562', '5597', '5696', '1429']\" \"['5562', '5597', '5696', '5529']\"\n",
            " \"['5562', '5597', '5696', '5741']\" \"['5562', '5597', '5696', '5754']\"\n",
            " \"['5562', '5597', '5696', '751']\" \"['5562', '5597', '5696', '891']\"\n",
            " \"['5562', '5597', '5696', '892']\" \"['5562', '5597', '5696', '893']\"\n",
            " \"['5562', '5597', '5696', '894']\" \"['5562', '5597', '5696', '895']\"\n",
            " \"['5562', '5597', '5782']\" \"['5562', '5599', '5539', '1075']\"\n",
            " \"['5562', '5599', '5539', '1076']\" \"['5562', '5599', '5539', '1077']\"\n",
            " \"['5562', '5599', '5539', '1078']\" \"['5562', '5599', '5539', '5949']\"\n",
            " \"['5562', '5599', '5539', '5950']\" \"['5562', '5599', '5539', '5953']\"\n",
            " \"['5562', '5599', '5553', '1080']\" \"['5562', '5599', '5553', '1396']\"\n",
            " \"['5562', '5599', '5602', '1115']\" \"['5562', '5599', '5602', '1116']\"\n",
            " \"['5562', '5599', '5848', '5710']\" \"['5562', '5630', '5541', '557']\"\n",
            " \"['5562', '5630', '5541', '685']\" \"['5562', '5630', '5547', '552']\"\n",
            " \"['5562', '5630', '5548', '1304']\" \"['5562', '5630', '5548', '1328']\"\n",
            " \"['5562', '5630', '5548', '1368']\" \"['5562', '5630', '5548', '1830']\"\n",
            " \"['5562', '5630', '5548', '554']\" \"['5562', '5630', '5548', '664']\"\n",
            " \"['5562', '5630', '5548', '665']\" \"['5562', '5630', '5575', '681']\"\n",
            " \"['5562', '5630', '5592', '1307']\" \"['5562', '5630', '5592', '676']\"\n",
            " \"['5562', '5630', '5607', '1326']\" \"['5562', '5630', '5607', '555']\"\n",
            " \"['5562', '5630', '5649', '1582']\" \"['5562', '5630', '5649', '678']\"\n",
            " \"['5562', '5630', '5659', '607']\" \"['5562', '5630', '5667', '551']\"\n",
            " \"['5562', '5630', '5669', '606']\" \"['5562', '5630', '5669', '668']\"\n",
            " \"['5562', '5630', '5669', '669']\" \"['5562', '5630', '5669', '670']\"\n",
            " \"['5562', '5630', '5669', '671']\" \"['5562', '5630', '5677', '628']\"\n",
            " \"['5562', '5630', '5687', '553']\" \"['5562', '5630', '5687', '558']\"\n",
            " \"['5562', '5630', '5699', '1200']\" \"['5562', '5630', '5699', '1306']\"\n",
            " \"['5562', '5630', '5699', '1829']\" \"['5562', '5630', '5699', '550']\"\n",
            " \"['5562', '5631', '5549', '1303']\" \"['5562', '5631', '5549', '1831']\"\n",
            " \"['5562', '5631', '5549', '608']\" \"['5562', '5631', '5549', '666']\"\n",
            " \"['5562', '5631', '5549', '667']\" \"['5562', '5631', '5549', '732']\"\n",
            " \"['5562', '5631', '5549', '734']\" \"['5562', '5631', '5549', '735']\"\n",
            " \"['5562', '5631', '5593', '1308']\" \"['5562', '5631', '5593', '675']\"\n",
            " \"['5562', '5631', '5608', '1327']\" \"['5562', '5631', '5608', '561']\"\n",
            " \"['5562', '5631', '5622', '1367']\" \"['5562', '5631', '5622', '560']\"\n",
            " \"['5562', '5631', '5648', '1583']\" \"['5562', '5631', '5648', '508']\"\n",
            " \"['5562', '5631', '5660', '611']\" \"['5562', '5631', '5666', '563']\"\n",
            " \"['5562', '5631', '5670', '1399']\" \"['5562', '5631', '5670', '609']\"\n",
            " \"['5562', '5631', '5670', '612']\" \"['5562', '5631', '5688', '562']\"\n",
            " \"['5562', '5631', '5688', '564']\" \"['5562', '5631', '5700', '448']\"\n",
            " \"['5562', '5632', '5546', '1323']\" \"['5562', '5632', '5546', '1334']\"\n",
            " \"['5562', '5632', '5546', '1335']\" \"['5562', '5632', '5546', '1344']\"\n",
            " \"['5562', '5632', '5546', '1345']\" \"['5562', '5632', '5546', '965']\"\n",
            " \"['5562', '5632', '5546', '966']\" \"['5562', '5632', '5552', '1089']\"\n",
            " \"['5562', '5632', '5552', '1257']\" \"['5562', '5632', '5552', '1298']\"\n",
            " \"['5562', '5632', '5552', '1340']\" \"['5562', '5632', '5552', '1341']\"\n",
            " \"['5562', '5632', '5552', '1363']\" \"['5562', '5632', '5552', '836']\"\n",
            " \"['5562', '5632', '5552', '855']\" \"['5562', '5632', '5552', '971']\"\n",
            " \"['5562', '5632', '5564', '1287']\" \"['5562', '5632', '5564', '1309']\"\n",
            " \"['5562', '5632', '5564', '1310']\" \"['5562', '5632', '5564', '969']\"\n",
            " \"['5562', '5632', '5577', '1337']\" \"['5562', '5632', '5577', '1338']\"\n",
            " \"['5562', '5632', '5577', '808']\" \"['5562', '5632', '5577', '850']\"\n",
            " \"['5562', '5632', '5598', '1294']\" \"['5562', '5632', '5598', '1324']\"\n",
            " \"['5562', '5632', '5598', '1336']\" \"['5562', '5632', '5598', '1356']\"\n",
            " \"['5562', '5632', '5598', '824']\" \"['5562', '5632', '5598', '967']\"\n",
            " \"['5562', '5632', '5598', '968']\" \"['5562', '5632', '5603', '1095']\"\n",
            " \"['5562', '5632', '5603', '1096']\" \"['5562', '5632', '5603', '1124']\"\n",
            " \"['5562', '5632', '5603', '1342']\" \"['5562', '5632', '5603', '1343']\"\n",
            " \"['5562', '5632', '5603', '1359']\" \"['5562', '5632', '5603', '1360']\"\n",
            " \"['5562', '5632', '5638', '1339']\" \"['5562', '5632', '5638', '970']\"\n",
            " \"['5562', '5632', '5639', '1629']\" \"['5562', '5632', '5647', '1288']\"\n",
            " \"['5562', '5632', '5647', '1361']\" \"['5562', '5632', '5647', '6012']\"\n",
            " \"['5562', '5632', '5657', '972']\" \"['5562', '5632', '5706', '1095']\"\n",
            " \"['5562', '5632', '5706', '1096']\" \"['5562', '5632', '5706', '1124']\"\n",
            " \"['5562', '5632', '5706', '1125']\" \"['5562', '5632', '5706', '1292']\"\n",
            " \"['5562', '5632', '5706', '1293']\" \"['5562', '5632', '5706', '1346']\"\n",
            " \"['5562', '5632', '5706', '1347']\" \"['5562', '5632', '5706', '1851']\"\n",
            " \"['5562', '5632', '5706', '1852']\" \"['5562', '5633', '5545', '706']\"\n",
            " \"['5562', '5633', '5545', '707']\" \"['5562', '5633', '5545', '755']\"\n",
            " \"['5562', '5633', '5545', '761']\" \"['5562', '5633', '5550', '5999']\"\n",
            " \"['5562', '5633', '5550', '6011']\" \"['5562', '5633', '5550', '690']\"\n",
            " \"['5562', '5633', '5550', '705']\" \"['5562', '5633', '5550', '743']\"\n",
            " \"['5562', '5633', '5550', '848']\" \"['5562', '5633', '5550', '927']\"\n",
            " \"['5562', '5633', '5567', '1286']\" \"['5562', '5633', '5567', '590']\"\n",
            " \"['5562', '5633', '5567', '640']\" \"['5562', '5633', '5567', '697']\"\n",
            " \"['5562', '5633', '5569', '581']\" \"['5562', '5633', '5569', '940']\"\n",
            " \"['5562', '5633', '5578', '1353']\" \"['5562', '5633', '5578', '6272']\"\n",
            " \"['5562', '5633', '5578', '700']\" \"['5562', '5633', '5600', '634']\"\n",
            " \"['5562', '5633', '5611', '713']\" \"['5562', '5633', '5612', '5998']\"\n",
            " \"['5562', '5633', '5612', '6000']\" \"['5562', '5633', '5612', '793']\"\n",
            " \"['5562', '5633', '5615', '1281']\" \"['5562', '5633', '5625', '1383']\"\n",
            " \"['5562', '5633', '5625', '571']\" \"['5562', '5633', '5625', '718']\"\n",
            " \"['5562', '5633', '5625', '941']\" \"['5562', '5633', '5627', '573']\"\n",
            " \"['5562', '5633', '5627', '719']\" \"['5562', '5633', '5644', '631']\"\n",
            " \"['5562', '5633', '5646', '1364']\" \"['5562', '5633', '5646', '5723']\"\n",
            " \"['5562', '5633', '5646', '638']\" \"['5562', '5633', '5646', '692']\"\n",
            " \"['5562', '5633', '5646', '699']\" \"['5562', '5633', '5646', '765']\"\n",
            " \"['5562', '5633', '5646', '838']\" \"['5562', '5633', '5646', '936']\"\n",
            " \"['5562', '5633', '5646', '937']\" \"['5562', '5633', '5671', '6009']\"\n",
            " \"['5562', '5633', '5673', '594']\" \"['5562', '5633', '5681', '1633']\"\n",
            " \"['5562', '5633', '5681', '1838']\" \"['5562', '5633', '5681', '591']\"\n",
            " \"['5562', '5633', '5681', '5997']\" \"['5562', '5633', '5689', '1107']\"\n",
            " \"['5562', '5633', '5692', '637']\" \"['5562', '5633', '5701', '702']\"\n",
            " \"['5562', '5633', '5701', '767']\" \"['5562', '5633', '5704', '1283']\"\n",
            " \"['5562', '5633', '5704', '1284']\" \"['5562', '5633', '5704', '1285']\"\n",
            " \"['5562', '5633', '5704', '1352']\" \"['5562', '5633', '5704', '1365']\"\n",
            " \"['5562', '5633', '5704', '1849']\" \"['5562', '5633', '5704', '600']\"\n",
            " \"['5562', '5633', '5704', '858']\" \"['5562', '5633', '5704', '923']\"\n",
            " \"['5562', '5633', '5708', '935']\" \"['5562', '5634', '5551', '1258']\"\n",
            " \"['5562', '5634', '5551', '1277']\" \"['5562', '5634', '5551', '1842']\"\n",
            " \"['5562', '5634', '5551', '6010']\" \"['5562', '5634', '5551', '691']\"\n",
            " \"['5562', '5634', '5551', '769']\" \"['5562', '5634', '5551', '953']\"\n",
            " \"['5562', '5634', '5568', '1351']\" \"['5562', '5634', '5568', '589']\"\n",
            " \"['5562', '5634', '5568', '641']\" \"['5562', '5634', '5568', '957']\"\n",
            " \"['5562', '5634', '5570', '582']\" \"['5562', '5634', '5579', '710']\"\n",
            " \"['5562', '5634', '5601', '635']\" \"['5562', '5634', '5616', '1279']\"\n",
            " \"['5562', '5634', '5626', '572']\" \"['5562', '5634', '5626', '959']\"\n",
            " \"['5562', '5634', '5628', '574']\" \"['5562', '5634', '5645', '632']\"\n",
            " \"['5562', '5634', '5650', '712']\" \"['5562', '5634', '5663', '592']\"\n",
            " \"['5562', '5634', '5663', '708']\" \"['5562', '5634', '5663', '799']\"\n",
            " \"['5562', '5634', '5663', '806']\" \"['5562', '5634', '5672', '1273']\"\n",
            " \"['5562', '5634', '5672', '961']\" \"['5562', '5634', '5674', '593']\"\n",
            " \"['5562', '5634', '5682', '1634']\" \"['5562', '5634', '5682', '1839']\"\n",
            " \"['5562', '5634', '5682', '639']\" \"['5562', '5634', '5682', '835']\"\n",
            " \"['5562', '5634', '5690', '1106']\" \"['5562', '5634', '5693', '636']\"\n",
            " \"['5562', '5634', '5705', '1274']\" \"['5562', '5634', '5705', '1275']\"\n",
            " \"['5562', '5634', '5705', '1276']\" \"['5562', '5634', '5705', '1350']\"\n",
            " \"['5562', '5634', '5705', '1366']\" \"['5562', '5634', '5705', '1850']\"\n",
            " \"['5562', '5634', '5705', '595']\" \"['5562', '5634', '5705', '859']\"\n",
            " \"['5562', '5634', '5709', '958']\" \"['5562', '5683', '5538', '1123']\"\n",
            " \"['5562', '5683', '5556', '1052']\" \"['5562', '5683', '5556', '1053']\"\n",
            " \"['5562', '5683', '5572', '1011']\" \"['5562', '5683', '5572', '1314']\"\n",
            " \"['5562', '5683', '5662', '1002']\" \"['5562', '5683', '5662', '1003']\"\n",
            " \"['5562', '5683', '5662', '559']\" \"['5562', '5683', '5665', '1006']\"\n",
            " \"['5562', '5683', '5665', '1007']\" \"['5562', '5683', '5668', '986']\"\n",
            " \"['5562', '5683', '5668', '992']\" \"['5562', '5683', '5676', '1005']\"\n",
            " \"['5562', '5683', '5679', '988']\" \"['5562', '5683', '5695', '1013']\"\n",
            " \"['5562', '5683', '5695', '1014']\" \"['5562', '5683', '5695', '1016']\"\n",
            " \"['5562', '5683', '5695', '1020']\" \"['5562', '5683', '5695', '1378']\"\n",
            " \"['5562', '5683', '5695', '5854']\" \"['5562', '5683', '5698', '987']\"\n",
            " \"['5562', '5683', '5698', '991']\" \"['5562', '5683', '5703', '1008']\"\n",
            " \"['5562', '5683', '5703', '1009']\" \"['5562', '5683', '5703', '1010']\"\n",
            " \"['5562', '5683', '5703', '5857']\" \"['5562', '5683', '5713', '1004']\"\n",
            " \"['5562', '5697', '5591', '1103']\" \"['5562', '5697', '5591', '1118']\"\n",
            " \"['5562', '5697', '5591', '5755']\" \"['5562', '5697', '5651', '1153']\"\n",
            " \"['5562', '5697', '5694', '5746']\" \"['5963', '5959', '5542', '1798']\"\n",
            " \"['5963', '5959', '5542', '1799']\" \"['5963', '5959', '6020', '1798']\"\n",
            " \"['5963', '5959', '6020', '1799']\" \"['5963', '5959', '6020', '1800']\"\n",
            " \"['5963', '5959', '6021', '1043']\" \"['5963', '5959', '6021', '5526']\"\n",
            " \"['5963', '5959', '6021', '5978']\" \"['5963', '5959', '6021', '5979']\"\n",
            " \"['5963', '5959', '6021', '5980']\" \"['5963', '5959', '6021', '5981']\"\n",
            " \"['5963', '5959', '6021', '5982']\" \"['5963', '5959', '6021', '5983']\"\n",
            " \"['5963', '5959', '6021', '6079']\" \"['5963', '5959', '6021', '6204']\"\n",
            " \"['5963', '5959', '6021', '6205']\" \"['5963', '5959', '6021', '6255']\"\n",
            " \"['5963', '5959', '6021', '6257']\" \"['5963', '5959', '6021', '6278']\"\n",
            " \"['5963', '5959', '6021', '999']\" \"['5963', '5959', '6022', '840']\"\n",
            " \"['5963', '5959', '6023', '1392']\" \"['5963', '5959', '6023', '1589']\"\n",
            " \"['5963', '5959', '6024', '1037']\" \"['5963', '5959', '6024', '1039']\"\n",
            " \"['5963', '5959', '6025', '839']\" \"['6060', '6057', '6069', '1047']\"\n",
            " \"['6060', '6057', '6069', '1081']\" \"['6060', '6057', '6069', '1610']\"\n",
            " \"['6060', '6057', '6073', '1566']\" \"['6060', '6057', '6074', '1167']\"\n",
            " \"['6060', '6057', '6074', '1211']\" \"['6060', '6057', '6074', '1357']\"\n",
            " \"['6060', '6057', '6074', '1567']\" \"['6060', '6057', '6074', '1593']\"\n",
            " \"['6060', '6057', '6074', '1601']\" \"['6060', '6057', '6074', '499']\"\n",
            " \"['6060', '6057', '6074', '6046']\" \"['6060', '6057', '6074', '6200']\"\n",
            " \"['6060', '6057', '6074', '6239']\" \"['6060', '6057', '6074', '6254']\"\n",
            " \"['6060', '6057', '6074', '6269']\" \"['6060', '6057', '6074', '6281']\"\n",
            " \"['6060', '6057', '6074', '6296']\" \"['6060', '6057', '6074', '999']\"\n",
            " \"['6060', '6057', '6075', '1565']\" \"['6060', '6057', '6075', '1584']\"\n",
            " \"['6060', '6057', '6075', '1585']\" \"['6060', '6057', '6243', '6145']\"\n",
            " \"['6060', '6057', '6243', '6146']\" \"['6060', '6057', '6243', '6148']\"\n",
            " \"['6060', '6057', '6243', '6149']\" \"['6060', '6057', '6243', '6151']\"\n",
            " \"['6060', '6057', '6243', '6152']\" \"['6060', '6057', '6243', '6153']\"\n",
            " \"['6060', '6057', '6243', '6154']\" \"['6060', '6057', '6243', '6155']\"\n",
            " \"['6060', '6057', '6243', '6177']\" \"['6060', '6057', '6243', '6178']\"\n",
            " \"['6060', '6057', '6243', '6240']\" \"['6060', '6057', '6243', '6264']\"\n",
            " \"['6060', '6057', '6244', '6147']\" \"['6060', '6057', '6244', '6150']\"\n",
            " \"['6060', '6057', '6244', '6156']\" \"['6060', '6057', '6244', '6157']\"\n",
            " \"['6060', '6057', '6244', '6231']\" \"['6060', '6057', '6244', '6235']\"\n",
            " \"['6060', '6057', '6244', '6236']\" \"['6060', '6057', '6244', '6237']\"\n",
            " \"['6060', '6057', '6245', '6088']\" \"['6060', '6057', '6245', '6089']\"\n",
            " \"['6060', '6057', '6245', '6090']\" \"['6060', '6057', '6245', '6091']\"\n",
            " \"['6060', '6057', '6245', '6305']\" \"['6060', '6057', '6266', '6162']\"\n",
            " \"['6060', '6057', '6266', '6163']\" \"['6060', '6057', '6266', '6198']\"\n",
            " \"['6060', '6057', '6266', '6199']\" \"['6060', '6057', '6266', '6241']\"\n",
            " \"['6060', '6058', '6061', '5504']\" \"['6060', '6058', '6062', '5502']\"\n",
            " \"['6060', '6058', '6063', '5720']\" \"['6060', '6058', '6064', '5956']\"\n",
            " \"['6060', '6058', '6065', '1848']\" \"['6060', '6058', '6065', '5499']\"\n",
            " \"['6060', '6058', '6065', '5501']\" \"['6060', '6058', '6065', '5503']\"\n",
            " \"['6060', '6058', '6065', '5505']\" \"['6060', '6058', '6065', '5835']\"\n",
            " \"['6060', '6058', '6065', '5847']\" \"['6060', '6058', '6065', '6097']\"\n",
            " \"['6060', '6058', '6066', '1168']\" \"['6060', '6058', '6066', '5500']\"\n",
            " \"['6060', '6058', '6067', '5498']\" \"['6060', '6058', '6068', '5834']\"\n",
            " \"['6060', '6059', '6070', '1855']\" \"['6060', '6059', '6070', '1856']\"\n",
            " \"['6060', '6059', '6071', '1607']\" \"['6060', '6059', '6071', '1632']\"\n",
            " \"['6060', '6059', '6071', '1854']\" \"['6060', '6059', '6071', '1857']\"\n",
            " \"['6060', '6059', '6071', '5746']\" \"['6060', '6059', '6071', '5756']\"\n",
            " \"['6060', '6059', '6071', '6292']\" \"['6060', '6059', '6072', '1853']\"\n",
            " \"['6060', '6059', '6076', '1153']\" '[None]' '[]']\n"
          ]
        }
      ]
    },
    {
      "cell_type": "markdown",
      "source": [
        "Обнаружены некорректные данные: '[None]' и '[]'."
      ],
      "metadata": {
        "id": "Eqs-C6w2Pg1T"
      }
    },
    {
      "cell_type": "code",
      "source": [
        "print('Строчек с \"[]\":', apparel_purchases.loc[apparel_purchases['category_ids'] == '[]'].shape[0])\n",
        "print('Строчек с \"[None]\":', apparel_purchases.loc[apparel_purchases['category_ids'] == '[None]'].shape[0])\n",
        "print('Доля некорректных записей:', (apparel_purchases.loc[apparel_purchases['category_ids'] == '[]'].shape[0] + \\\n",
        "      apparel_purchases.loc[apparel_purchases['category_ids'] == '[None]'].shape[0]) / apparel_purchases.shape[0])"
      ],
      "metadata": {
        "colab": {
          "base_uri": "https://localhost:8080/"
        },
        "id": "cpnTuze1OqIs",
        "outputId": "e4c63679-ab27-40cc-f899-bbe264b4dfe9"
      },
      "execution_count": 8,
      "outputs": [
        {
          "output_type": "stream",
          "name": "stdout",
          "text": [
            "Строчек с \"[]\": 5579\n",
            "Строчек с \"[None]\": 1264\n",
            "Доля некорректных записей: 0.03384139104288653\n"
          ]
        }
      ]
    },
    {
      "cell_type": "markdown",
      "source": [
        "Таких записей около 3% процентов от общего количества, от них можно отказаться:"
      ],
      "metadata": {
        "id": "UbtCDIH4PxKj"
      }
    },
    {
      "cell_type": "code",
      "source": [
        "apparel_purchases = apparel_purchases.loc[apparel_purchases['category_ids'] != '[]']\n",
        "apparel_purchases = apparel_purchases.loc[apparel_purchases['category_ids'] != '[None]']\n",
        "apparel_purchases.Name = 'apparel_purchases'\n",
        "print('Строчек с \"[]\":', apparel_purchases.loc[apparel_purchases['category_ids'] == '[]'].shape[0])\n",
        "print('Строчек с \"[None]\":', apparel_purchases.loc[apparel_purchases['category_ids'] == '[None]'].shape[0])\n",
        "print('Доля некорректных записей:', (apparel_purchases.loc[apparel_purchases['category_ids'] == '[]'].shape[0] + \\\n",
        "      apparel_purchases.loc[apparel_purchases['category_ids'] == '[None]'].shape[0]) / apparel_purchases.shape[0])"
      ],
      "metadata": {
        "colab": {
          "base_uri": "https://localhost:8080/"
        },
        "id": "DByNYX-CPvdk",
        "outputId": "7c12a2f8-1943-4474-8492-ef9d97b0b213"
      },
      "execution_count": 9,
      "outputs": [
        {
          "output_type": "stream",
          "name": "stdout",
          "text": [
            "Строчек с \"[]\": 0\n",
            "Строчек с \"[None]\": 0\n",
            "Доля некорректных записей: 0.0\n"
          ]
        }
      ]
    },
    {
      "cell_type": "markdown",
      "source": [
        "В датафреймах apparel_purchases и apparel_target пропуски отсутствуют. Необходимо проверить наличие таковых в apparel_messages:\n",
        "\n"
      ],
      "metadata": {
        "id": "uxA94uenSaF-"
      }
    },
    {
      "cell_type": "code",
      "source": [
        "apparel_messages.isnull().sum()"
      ],
      "metadata": {
        "id": "2oPm4tj3FwFp",
        "colab": {
          "base_uri": "https://localhost:8080/",
          "height": 304
        },
        "outputId": "eb79fdac-8ace-4715-ebe1-ba791f78ff77"
      },
      "execution_count": 10,
      "outputs": [
        {
          "output_type": "execute_result",
          "data": {
            "text/plain": [
              "bulk_campaign_id    0\n",
              "client_id           0\n",
              "message_id          0\n",
              "event               0\n",
              "channel             0\n",
              "date                0\n",
              "created_at          0\n",
              "dtype: int64"
            ],
            "text/html": [
              "<div>\n",
              "<style scoped>\n",
              "    .dataframe tbody tr th:only-of-type {\n",
              "        vertical-align: middle;\n",
              "    }\n",
              "\n",
              "    .dataframe tbody tr th {\n",
              "        vertical-align: top;\n",
              "    }\n",
              "\n",
              "    .dataframe thead th {\n",
              "        text-align: right;\n",
              "    }\n",
              "</style>\n",
              "<table border=\"1\" class=\"dataframe\">\n",
              "  <thead>\n",
              "    <tr style=\"text-align: right;\">\n",
              "      <th></th>\n",
              "      <th>0</th>\n",
              "    </tr>\n",
              "  </thead>\n",
              "  <tbody>\n",
              "    <tr>\n",
              "      <th>bulk_campaign_id</th>\n",
              "      <td>0</td>\n",
              "    </tr>\n",
              "    <tr>\n",
              "      <th>client_id</th>\n",
              "      <td>0</td>\n",
              "    </tr>\n",
              "    <tr>\n",
              "      <th>message_id</th>\n",
              "      <td>0</td>\n",
              "    </tr>\n",
              "    <tr>\n",
              "      <th>event</th>\n",
              "      <td>0</td>\n",
              "    </tr>\n",
              "    <tr>\n",
              "      <th>channel</th>\n",
              "      <td>0</td>\n",
              "    </tr>\n",
              "    <tr>\n",
              "      <th>date</th>\n",
              "      <td>0</td>\n",
              "    </tr>\n",
              "    <tr>\n",
              "      <th>created_at</th>\n",
              "      <td>0</td>\n",
              "    </tr>\n",
              "  </tbody>\n",
              "</table>\n",
              "</div><br><label><b>dtype:</b> int64</label>"
            ]
          },
          "metadata": {},
          "execution_count": 10
        }
      ]
    },
    {
      "cell_type": "markdown",
      "source": [
        "Пропуски в данных отсутствуют. Необходимо проверить наличие дубликатов:"
      ],
      "metadata": {
        "id": "zSPDOO2NTDZt"
      }
    },
    {
      "cell_type": "code",
      "source": [
        "for df in [apparel_messages, apparel_purchases, apparel_target]:\n",
        "  print(f'Дубликатов в {df.Name}: {df.duplicated().sum()}')"
      ],
      "metadata": {
        "colab": {
          "base_uri": "https://localhost:8080/"
        },
        "id": "FNlcrB1eubP4",
        "outputId": "a6d42077-d981-49d0-b39d-1b053f22ce7a"
      },
      "execution_count": 11,
      "outputs": [
        {
          "output_type": "stream",
          "name": "stdout",
          "text": [
            "Дубликатов в apparel_messages: 48610\n",
            "Дубликатов в apparel_purchases: 69537\n",
            "Дубликатов в apparel_target: 0\n"
          ]
        }
      ]
    },
    {
      "cell_type": "markdown",
      "source": [
        "Обнаружены дубликаты в датафреймах apparel_messages и apparel_purchases. В случае с apparel_messages в данных присутствуют временные метки создания сообщения вплоть до секунд. Это значит, что дубликаты, обнаруженные в apparel_messages, действительно являются задублированными записями, указывающими на одну и т уже сущность (событие). От таких дубликатов следует отказаться:"
      ],
      "metadata": {
        "id": "jMkjQavFuqM1"
      }
    },
    {
      "cell_type": "code",
      "source": [
        "apparel_messages = apparel_messages.drop_duplicates()\n",
        "apparel_messages.duplicated().sum()"
      ],
      "metadata": {
        "colab": {
          "base_uri": "https://localhost:8080/"
        },
        "id": "xE0DMc8jvtek",
        "outputId": "ffa9e7bb-192c-4c45-d6e9-ad4a9b30596d"
      },
      "execution_count": 12,
      "outputs": [
        {
          "output_type": "execute_result",
          "data": {
            "text/plain": [
              "0"
            ]
          },
          "metadata": {},
          "execution_count": 12
        }
      ]
    },
    {
      "cell_type": "markdown",
      "source": [
        "Дубликаты в apparel_messages удалены.  \n",
        "Для apparel_purchases ситуация иная: там нет достаточно точных временных меток, по которым можно было бы сделать вывод о дублировании записей, отражающих одно и то же событие. Кроме того, дубликатов в apparel_purchases очень много: 73020 из 202208 записей, это больше трети. Это наводит на мысль о том, что такие записи отражают разные покупки, и удалять эти данные нельзя."
      ],
      "metadata": {
        "id": "OZC1cOTZu4k3"
      }
    },
    {
      "cell_type": "markdown",
      "source": [
        "### Выводы по первому этапу\n",
        "1. Импортированы необходимые библиотеки и модули.\n",
        "2. Исходные данные загружены в датафреймы pandas.\n",
        "3. Получена общая информация о данных.\n",
        "4. Проведена проверка наличия в данных пропусков, опечаток и дубликатов.\n",
        "5. Устранены некорректные значения в столбце category_ids датафрейма apparel_purchases.\n",
        "6. Устранены дубликаты в датафрейме apparel_messages."
      ],
      "metadata": {
        "id": "oe2FVc3nz7JV"
      }
    },
    {
      "cell_type": "markdown",
      "source": [
        "## Анализ данных"
      ],
      "metadata": {
        "id": "FkHEGgnQ2sRM"
      }
    },
    {
      "cell_type": "markdown",
      "source": [
        "Определение вспомогательных функций:"
      ],
      "metadata": {
        "id": "Yw5Oq5Kh37u3"
      }
    },
    {
      "cell_type": "code",
      "source": [
        "def plot_num_features(df):\n",
        "    for column in df.columns:\n",
        "        plt.figure(figsize = (10, 10))\n",
        "        # Гистограмма\n",
        "        data = df[column]\n",
        "        plt.subplot(2,1,1)\n",
        "        plt.hist(data, histtype='bar')\n",
        "        plt.xlabel(column)\n",
        "        plt.ylabel('Частота встречаемости')\n",
        "        plt.title(f'Распределение признака {column}')\n",
        "        # Диаграмма размаха\n",
        "        plt.subplot(2,1,2)\n",
        "        plt.boxplot(data, vert = False)\n",
        "        plt.ylabel(f'Диаграмма размаха {column}')\n",
        "        plt.xlabel(column)\n",
        "        plt.show()\n",
        "        print(f'Среднее значение признака {column}: {data.mean():.2f}')\n",
        "        print(f'Медианное значение признака {column}: {data.median():.2f}')\n",
        "        print('\\n\\n\\n')\n",
        "\n",
        "\n",
        "\n",
        "def plot_cat_features(df):\n",
        "    for column in df.columns:\n",
        "        print(f'Нормализованное распределение признака {column}:')\n",
        "        print(df[column].value_counts(normalize = True))\n",
        "        ax = df[column].value_counts().plot(kind = 'bar', figsize = (10, 6))\n",
        "        ax.set_xlabel(column)\n",
        "        ax.set_ylabel('Частота встречаемости')\n",
        "        ax.set_title(f'График распределения признака {column}')\n",
        "        plt.show()\n",
        "        print('\\n\\n')"
      ],
      "metadata": {
        "id": "CRh_mdeUNFXB"
      },
      "execution_count": 13,
      "outputs": []
    },
    {
      "cell_type": "markdown",
      "source": [
        "Анализ признаков в apparel_messages:"
      ],
      "metadata": {
        "id": "hYEMrKfh8GQZ"
      }
    },
    {
      "cell_type": "code",
      "source": [
        "cat_features = ['event', 'channel']\n",
        "plot_cat_features(apparel_messages[cat_features])"
      ],
      "metadata": {
        "colab": {
          "base_uri": "https://localhost:8080/",
          "height": 1000
        },
        "id": "R4yFMCA6M8iC",
        "outputId": "bb1bc37f-699a-423c-e1b7-43b12a87527d"
      },
      "execution_count": 14,
      "outputs": [
        {
          "output_type": "stream",
          "name": "stdout",
          "text": [
            "Нормализованное распределение признака event:\n",
            "event\n",
            "send           7.137373e-01\n",
            "open           2.405197e-01\n",
            "click          3.808359e-02\n",
            "purchase       4.932005e-03\n",
            "hard_bounce    1.557222e-03\n",
            "soft_bounce    8.338069e-04\n",
            "unsubscribe    2.232258e-04\n",
            "hbq_spam       6.484815e-05\n",
            "complain       4.152488e-05\n",
            "subscribe      6.697561e-06\n",
            "close          7.879483e-08\n",
            "Name: proportion, dtype: float64\n"
          ]
        },
        {
          "output_type": "display_data",
          "data": {
            "text/plain": [
              "<Figure size 1000x600 with 1 Axes>"
            ],
            "image/png": "[encoded data removed]"
          },
          "metadata": {}
        },
        {
          "output_type": "stream",
          "name": "stdout",
          "text": [
            "\n",
            "\n",
            "\n",
            "Нормализованное распределение признака channel:\n",
            "channel\n",
            "mobile_push    0.588635\n",
            "email          0.411365\n",
            "Name: proportion, dtype: float64\n"
          ]
        },
        {
          "output_type": "display_data",
          "data": {
            "text/plain": [
              "<Figure size 1000x600 with 1 Axes>"
            ],
            "image/png": "[encoded data removed]"
          },
          "metadata": {}
        },
        {
          "output_type": "stream",
          "name": "stdout",
          "text": [
            "\n",
            "\n",
            "\n"
          ]
        }
      ]
    },
    {
      "cell_type": "markdown",
      "source": [
        "Пуш-уведомления рассылают чаще, чем сообщения электронной почты: 59% против 41% соответственно. Доля рассылок, приводящих к покупке, составляет около 0.5%"
      ],
      "metadata": {
        "id": "pCKe7f_95DCG"
      }
    },
    {
      "cell_type": "markdown",
      "source": [
        "Анализ признаков в apparel_purchases:"
      ],
      "metadata": {
        "id": "i9o7CT6h8Mkm"
      }
    },
    {
      "cell_type": "code",
      "source": [
        "num_features = ['price', 'quantity']\n",
        "plot_num_features(apparel_purchases[num_features])"
      ],
      "metadata": {
        "colab": {
          "base_uri": "https://localhost:8080/",
          "height": 1000
        },
        "id": "oZWPkegA48Bl",
        "outputId": "4b3b954c-6439-4ff0-ad5b-a00b09003bb4"
      },
      "execution_count": 15,
      "outputs": [
        {
          "output_type": "display_data",
          "data": {
            "text/plain": [
              "<Figure size 1000x1000 with 2 Axes>"
            ],
            "image/png": "[encoded data removed]"
          },
          "metadata": {}
        },
        {
          "output_type": "stream",
          "name": "stdout",
          "text": [
            "Среднее значение признака price: 1233.40\n",
            "Медианное значение признака price: 999.00\n",
            "\n",
            "\n",
            "\n",
            "\n"
          ]
        },
        {
          "output_type": "display_data",
          "data": {
            "text/plain": [
              "<Figure size 1000x1000 with 2 Axes>"
            ],
            "image/png": "[encoded data removed]"
          },
          "metadata": {}
        },
        {
          "output_type": "stream",
          "name": "stdout",
          "text": [
            "Среднее значение признака quantity: 1.01\n",
            "Медианное значение признака quantity: 1.00\n",
            "\n",
            "\n",
            "\n",
            "\n"
          ]
        }
      ]
    },
    {
      "cell_type": "markdown",
      "source": [
        "Средняя стоимость покупок составляет около 1000. Для большинства покупок характерно количество единиц товара равное одному:"
      ],
      "metadata": {
        "id": "SI0FmCnD5g-g"
      }
    },
    {
      "cell_type": "code",
      "source": [
        "apparel_purchases.loc[apparel_purchases['quantity'] == 1].shape[0] / apparel_purchases.shape[0]"
      ],
      "metadata": {
        "colab": {
          "base_uri": "https://localhost:8080/"
        },
        "id": "AnUUrodOAYiz",
        "outputId": "380cdac8-4165-4ebe-80bd-5feb3ad167f6"
      },
      "execution_count": 16,
      "outputs": [
        {
          "output_type": "execute_result",
          "data": {
            "text/plain": [
              "0.9954700176592532"
            ]
          },
          "metadata": {},
          "execution_count": 16
        }
      ]
    },
    {
      "cell_type": "markdown",
      "source": [
        "Доля таких 'одиночных' покупок составляет более 99%. возможно, при покупке даже нескольких единиц товара система интернет-магазина обрабатывает такие покупки по одной."
      ],
      "metadata": {
        "id": "YDCCqpBeAuIO"
      }
    },
    {
      "cell_type": "markdown",
      "source": [
        "Анализ признака в apparel_target:"
      ],
      "metadata": {
        "id": "FtRLYHGt8Q7K"
      }
    },
    {
      "cell_type": "code",
      "source": [
        "cat_features = ['target']\n",
        "plot_cat_features(apparel_target[cat_features])"
      ],
      "metadata": {
        "colab": {
          "base_uri": "https://localhost:8080/",
          "height": 702
        },
        "id": "9LFFQInD5RrZ",
        "outputId": "32e0e4e9-7cc6-4e33-96ba-5a15388f9a1a"
      },
      "execution_count": 17,
      "outputs": [
        {
          "output_type": "stream",
          "name": "stdout",
          "text": [
            "Нормализованное распределение признака target:\n",
            "target\n",
            "0    0.980722\n",
            "1    0.019278\n",
            "Name: proportion, dtype: float64\n"
          ]
        },
        {
          "output_type": "display_data",
          "data": {
            "text/plain": [
              "<Figure size 1000x600 with 1 Axes>"
            ],
            "image/png": "[encoded data removed]"
          },
          "metadata": {}
        },
        {
          "output_type": "stream",
          "name": "stdout",
          "text": [
            "\n",
            "\n",
            "\n"
          ]
        }
      ]
    },
    {
      "cell_type": "markdown",
      "source": [
        "Наблюдается сильный дисбаланс классов по целевому признаку: повторную покупки совершили менее 2% клиентов интернет-магазина. При разбиении данных на обучающую и тестовую выборки необходимо применить стратификацию."
      ],
      "metadata": {
        "id": "BYfhm-Uk5sdp"
      }
    },
    {
      "cell_type": "markdown",
      "source": [
        "### Выводы по второму этапу\n",
        "В результате анализа данных установлено, что:\n",
        "1. Пуш-уведомления рассылают немного чаще, чем сообщения электронной почты. Доля рассылок, приводящих к покупке, составляет около 0.5%.\n",
        "2. Средняя стоимость покупок составляет около 1000. Для большинства покупок характерно количество единиц товара равное одному.\n",
        "3. Повторную покупки совершили менее 2% клиентов интернет-магазина."
      ],
      "metadata": {
        "id": "Vp0_2U7w_ke6"
      }
    },
    {
      "cell_type": "markdown",
      "source": [
        "## Разработка признаков"
      ],
      "metadata": {
        "id": "d7rZIKd4HlMG"
      }
    },
    {
      "cell_type": "markdown",
      "source": [
        "### Выбор новых признаков"
      ],
      "metadata": {
        "id": "sO-6yH1_ZONi"
      }
    },
    {
      "cell_type": "markdown",
      "source": [
        "Подсчет количества совершенных покупок для каждого пользователя:"
      ],
      "metadata": {
        "id": "ZOi9oeVqSxca"
      }
    },
    {
      "cell_type": "code",
      "source": [
        "purchases_count = apparel_purchases.groupby(by = 'client_id')['price'].count()\n",
        "purchases_count = purchases_count.rename('orders_count')\n",
        "purchases_count.head()"
      ],
      "metadata": {
        "colab": {
          "base_uri": "https://localhost:8080/",
          "height": 272
        },
        "id": "t0PNrkPASL9n",
        "outputId": "3fb4ccb0-7847-4fbc-c2a6-357736b02566"
      },
      "execution_count": 18,
      "outputs": [
        {
          "output_type": "execute_result",
          "data": {
            "text/plain": [
              "client_id\n",
              "1515915625468060902     7\n",
              "1515915625468061003     7\n",
              "1515915625468061099     1\n",
              "1515915625468061100     2\n",
              "1515915625468061170    17\n",
              "Name: orders_count, dtype: int64"
            ],
            "text/html": [
              "<div>\n",
              "<style scoped>\n",
              "    .dataframe tbody tr th:only-of-type {\n",
              "        vertical-align: middle;\n",
              "    }\n",
              "\n",
              "    .dataframe tbody tr th {\n",
              "        vertical-align: top;\n",
              "    }\n",
              "\n",
              "    .dataframe thead th {\n",
              "        text-align: right;\n",
              "    }\n",
              "</style>\n",
              "<table border=\"1\" class=\"dataframe\">\n",
              "  <thead>\n",
              "    <tr style=\"text-align: right;\">\n",
              "      <th></th>\n",
              "      <th>orders_count</th>\n",
              "    </tr>\n",
              "    <tr>\n",
              "      <th>client_id</th>\n",
              "      <th></th>\n",
              "    </tr>\n",
              "  </thead>\n",
              "  <tbody>\n",
              "    <tr>\n",
              "      <th>1515915625468060902</th>\n",
              "      <td>7</td>\n",
              "    </tr>\n",
              "    <tr>\n",
              "      <th>1515915625468061003</th>\n",
              "      <td>7</td>\n",
              "    </tr>\n",
              "    <tr>\n",
              "      <th>1515915625468061099</th>\n",
              "      <td>1</td>\n",
              "    </tr>\n",
              "    <tr>\n",
              "      <th>1515915625468061100</th>\n",
              "      <td>2</td>\n",
              "    </tr>\n",
              "    <tr>\n",
              "      <th>1515915625468061170</th>\n",
              "      <td>17</td>\n",
              "    </tr>\n",
              "  </tbody>\n",
              "</table>\n",
              "</div><br><label><b>dtype:</b> int64</label>"
            ]
          },
          "metadata": {},
          "execution_count": 18
        }
      ]
    },
    {
      "cell_type": "markdown",
      "source": [
        "Подсчет количества денег, которые потратил пользователь за период анализа:"
      ],
      "metadata": {
        "id": "ojqXPSniT7XI"
      }
    },
    {
      "cell_type": "code",
      "source": [
        "apparel_purchases['orders_sum'] = apparel_purchases['quantity'] * apparel_purchases['price']\n",
        "pyrchases_sum = apparel_purchases.groupby(by = 'client_id')['orders_sum'].sum()\n",
        "apparel_purchases = apparel_purchases.drop('orders_sum', axis = 1)\n",
        "pyrchases_sum.head()"
      ],
      "metadata": {
        "colab": {
          "base_uri": "https://localhost:8080/",
          "height": 272
        },
        "id": "JtVgf0DoT7nV",
        "outputId": "c6fc1088-7c22-4f81-e76d-8feb88e6d68e"
      },
      "execution_count": 19,
      "outputs": [
        {
          "output_type": "execute_result",
          "data": {
            "text/plain": [
              "client_id\n",
              "1515915625468060902     6993.0\n",
              "1515915625468061003    16235.0\n",
              "1515915625468061099      299.0\n",
              "1515915625468061100     2098.0\n",
              "1515915625468061170    33587.0\n",
              "Name: orders_sum, dtype: float64"
            ],
            "text/html": [
              "<div>\n",
              "<style scoped>\n",
              "    .dataframe tbody tr th:only-of-type {\n",
              "        vertical-align: middle;\n",
              "    }\n",
              "\n",
              "    .dataframe tbody tr th {\n",
              "        vertical-align: top;\n",
              "    }\n",
              "\n",
              "    .dataframe thead th {\n",
              "        text-align: right;\n",
              "    }\n",
              "</style>\n",
              "<table border=\"1\" class=\"dataframe\">\n",
              "  <thead>\n",
              "    <tr style=\"text-align: right;\">\n",
              "      <th></th>\n",
              "      <th>orders_sum</th>\n",
              "    </tr>\n",
              "    <tr>\n",
              "      <th>client_id</th>\n",
              "      <th></th>\n",
              "    </tr>\n",
              "  </thead>\n",
              "  <tbody>\n",
              "    <tr>\n",
              "      <th>1515915625468060902</th>\n",
              "      <td>6993.0</td>\n",
              "    </tr>\n",
              "    <tr>\n",
              "      <th>1515915625468061003</th>\n",
              "      <td>16235.0</td>\n",
              "    </tr>\n",
              "    <tr>\n",
              "      <th>1515915625468061099</th>\n",
              "      <td>299.0</td>\n",
              "    </tr>\n",
              "    <tr>\n",
              "      <th>1515915625468061100</th>\n",
              "      <td>2098.0</td>\n",
              "    </tr>\n",
              "    <tr>\n",
              "      <th>1515915625468061170</th>\n",
              "      <td>33587.0</td>\n",
              "    </tr>\n",
              "  </tbody>\n",
              "</table>\n",
              "</div><br><label><b>dtype:</b> float64</label>"
            ]
          },
          "metadata": {},
          "execution_count": 19
        }
      ]
    },
    {
      "cell_type": "markdown",
      "source": [
        "Расчет средней цены товаров, которые покупал пользователь:"
      ],
      "metadata": {
        "id": "mfakQFaEbVYn"
      }
    },
    {
      "cell_type": "code",
      "source": [
        "mean_price = apparel_purchases.groupby(by = 'client_id')['price'].mean()\n",
        "mean_price = mean_price.rename('mean_price')\n",
        "mean_price.head()"
      ],
      "metadata": {
        "colab": {
          "base_uri": "https://localhost:8080/",
          "height": 272
        },
        "id": "DIh1YotcbRd1",
        "outputId": "ae2e05bc-1b10-4318-ec2d-7c77642dbf4f"
      },
      "execution_count": 20,
      "outputs": [
        {
          "output_type": "execute_result",
          "data": {
            "text/plain": [
              "client_id\n",
              "1515915625468060902     999.000000\n",
              "1515915625468061003    2319.285714\n",
              "1515915625468061099     299.000000\n",
              "1515915625468061100    1049.000000\n",
              "1515915625468061170    1975.705882\n",
              "Name: mean_price, dtype: float64"
            ],
            "text/html": [
              "<div>\n",
              "<style scoped>\n",
              "    .dataframe tbody tr th:only-of-type {\n",
              "        vertical-align: middle;\n",
              "    }\n",
              "\n",
              "    .dataframe tbody tr th {\n",
              "        vertical-align: top;\n",
              "    }\n",
              "\n",
              "    .dataframe thead th {\n",
              "        text-align: right;\n",
              "    }\n",
              "</style>\n",
              "<table border=\"1\" class=\"dataframe\">\n",
              "  <thead>\n",
              "    <tr style=\"text-align: right;\">\n",
              "      <th></th>\n",
              "      <th>mean_price</th>\n",
              "    </tr>\n",
              "    <tr>\n",
              "      <th>client_id</th>\n",
              "      <th></th>\n",
              "    </tr>\n",
              "  </thead>\n",
              "  <tbody>\n",
              "    <tr>\n",
              "      <th>1515915625468060902</th>\n",
              "      <td>999.000000</td>\n",
              "    </tr>\n",
              "    <tr>\n",
              "      <th>1515915625468061003</th>\n",
              "      <td>2319.285714</td>\n",
              "    </tr>\n",
              "    <tr>\n",
              "      <th>1515915625468061099</th>\n",
              "      <td>299.000000</td>\n",
              "    </tr>\n",
              "    <tr>\n",
              "      <th>1515915625468061100</th>\n",
              "      <td>1049.000000</td>\n",
              "    </tr>\n",
              "    <tr>\n",
              "      <th>1515915625468061170</th>\n",
              "      <td>1975.705882</td>\n",
              "    </tr>\n",
              "  </tbody>\n",
              "</table>\n",
              "</div><br><label><b>dtype:</b> float64</label>"
            ]
          },
          "metadata": {},
          "execution_count": 20
        }
      ]
    },
    {
      "cell_type": "markdown",
      "source": [
        "Расчет среднего количества товаров, которые покупал пользователь:"
      ],
      "metadata": {
        "id": "lYc5HoKubhPv"
      }
    },
    {
      "cell_type": "code",
      "source": [
        "mean_quantity = apparel_purchases.groupby(by = 'client_id')['quantity'].mean()\n",
        "mean_quantity = mean_quantity.rename('mean_quantity')\n",
        "mean_quantity.head()"
      ],
      "metadata": {
        "colab": {
          "base_uri": "https://localhost:8080/",
          "height": 272
        },
        "id": "DOisOcCMbRjw",
        "outputId": "8bf38705-44de-4355-a779-c564987f936f"
      },
      "execution_count": 21,
      "outputs": [
        {
          "output_type": "execute_result",
          "data": {
            "text/plain": [
              "client_id\n",
              "1515915625468060902    1.0\n",
              "1515915625468061003    1.0\n",
              "1515915625468061099    1.0\n",
              "1515915625468061100    1.0\n",
              "1515915625468061170    1.0\n",
              "Name: mean_quantity, dtype: float64"
            ],
            "text/html": [
              "<div>\n",
              "<style scoped>\n",
              "    .dataframe tbody tr th:only-of-type {\n",
              "        vertical-align: middle;\n",
              "    }\n",
              "\n",
              "    .dataframe tbody tr th {\n",
              "        vertical-align: top;\n",
              "    }\n",
              "\n",
              "    .dataframe thead th {\n",
              "        text-align: right;\n",
              "    }\n",
              "</style>\n",
              "<table border=\"1\" class=\"dataframe\">\n",
              "  <thead>\n",
              "    <tr style=\"text-align: right;\">\n",
              "      <th></th>\n",
              "      <th>mean_quantity</th>\n",
              "    </tr>\n",
              "    <tr>\n",
              "      <th>client_id</th>\n",
              "      <th></th>\n",
              "    </tr>\n",
              "  </thead>\n",
              "  <tbody>\n",
              "    <tr>\n",
              "      <th>1515915625468060902</th>\n",
              "      <td>1.0</td>\n",
              "    </tr>\n",
              "    <tr>\n",
              "      <th>1515915625468061003</th>\n",
              "      <td>1.0</td>\n",
              "    </tr>\n",
              "    <tr>\n",
              "      <th>1515915625468061099</th>\n",
              "      <td>1.0</td>\n",
              "    </tr>\n",
              "    <tr>\n",
              "      <th>1515915625468061100</th>\n",
              "      <td>1.0</td>\n",
              "    </tr>\n",
              "    <tr>\n",
              "      <th>1515915625468061170</th>\n",
              "      <td>1.0</td>\n",
              "    </tr>\n",
              "  </tbody>\n",
              "</table>\n",
              "</div><br><label><b>dtype:</b> float64</label>"
            ]
          },
          "metadata": {},
          "execution_count": 21
        }
      ]
    },
    {
      "cell_type": "markdown",
      "source": [
        "### Объединение таблиц"
      ],
      "metadata": {
        "id": "zO3fOsRlZI3t"
      }
    },
    {
      "cell_type": "markdown",
      "source": [
        "Объединение с pyrchases_sum:"
      ],
      "metadata": {
        "id": "uSkWubUpcmMA"
      }
    },
    {
      "cell_type": "code",
      "source": [
        "apparel_purchases = apparel_purchases.join(pyrchases_sum, on = 'client_id')"
      ],
      "metadata": {
        "id": "ivIlKbx2XEbI"
      },
      "execution_count": 22,
      "outputs": []
    },
    {
      "cell_type": "markdown",
      "source": [
        "Объединение с purchases_count:"
      ],
      "metadata": {
        "id": "LP4A2TmTcqw3"
      }
    },
    {
      "cell_type": "code",
      "source": [
        "apparel_purchases = apparel_purchases.join(purchases_count, on ='client_id', rsuffix='_count')"
      ],
      "metadata": {
        "id": "fINf716oX2KP"
      },
      "execution_count": 23,
      "outputs": []
    },
    {
      "cell_type": "markdown",
      "source": [
        "Объединение с mean_quantity:"
      ],
      "metadata": {
        "id": "eW0hgC86bsxU"
      }
    },
    {
      "cell_type": "code",
      "source": [
        "apparel_purchases = apparel_purchases.merge(mean_quantity, on='client_id')"
      ],
      "metadata": {
        "id": "3gpTNkx3tVoS"
      },
      "execution_count": 24,
      "outputs": []
    },
    {
      "cell_type": "markdown",
      "source": [
        "Объединение с mean_price:"
      ],
      "metadata": {
        "id": "VcNkUjKMby3G"
      }
    },
    {
      "cell_type": "code",
      "source": [
        "apparel_purchases = apparel_purchases.merge(mean_price, on='client_id')"
      ],
      "metadata": {
        "id": "eefqti_qbzBg"
      },
      "execution_count": 25,
      "outputs": []
    },
    {
      "cell_type": "markdown",
      "source": [
        "Объединение с apparel_target:"
      ],
      "metadata": {
        "id": "X3GA-_8_cuZa"
      }
    },
    {
      "cell_type": "code",
      "source": [
        "apparel_purchases = apparel_purchases.merge(apparel_target, on='client_id')"
      ],
      "metadata": {
        "id": "F_Ivyi5DbhW6"
      },
      "execution_count": 26,
      "outputs": []
    },
    {
      "cell_type": "markdown",
      "source": [
        "Удаление неинформативных признаков:"
      ],
      "metadata": {
        "id": "rdH-atgNjZh5"
      }
    },
    {
      "cell_type": "code",
      "source": [
        "apparel_purchases = apparel_purchases.drop(['category_ids', 'date', 'message_id', 'client_id'], axis = 1)"
      ],
      "metadata": {
        "id": "rrronvpQaEcv"
      },
      "execution_count": 27,
      "outputs": []
    },
    {
      "cell_type": "markdown",
      "source": [
        "Итоговый датафрейм для исследования:"
      ],
      "metadata": {
        "id": "DsbQ0hSAdUJi"
      }
    },
    {
      "cell_type": "code",
      "source": [
        "display(apparel_purchases.head())\n",
        "apparel_purchases.info()"
      ],
      "metadata": {
        "colab": {
          "base_uri": "https://localhost:8080/",
          "height": 456
        },
        "id": "Jgb6xxkPcPxB",
        "outputId": "21ae533d-aa4e-45b8-dd73-463c759aa87f"
      },
      "execution_count": 28,
      "outputs": [
        {
          "output_type": "display_data",
          "data": {
            "text/plain": [
              "   quantity   price  orders_sum  orders_count  mean_quantity   mean_price  \\\n",
              "0         1  1999.0     23612.0             9            1.0  2623.555556   \n",
              "1         1  2499.0     23612.0             9            1.0  2623.555556   \n",
              "2         1  6499.0     16497.0             3            1.0  5499.000000   \n",
              "3         1  4999.0     16497.0             3            1.0  5499.000000   \n",
              "4         1  4999.0     16497.0             3            1.0  5499.000000   \n",
              "\n",
              "   target  \n",
              "0       0  \n",
              "1       0  \n",
              "2       0  \n",
              "3       0  \n",
              "4       0  "
            ],
            "text/html": [
              "\n",
              "  <div id=\"df-2309e45d-9c4b-4a60-bc35-de4f730908f2\" class=\"colab-df-container\">\n",
              "    <div>\n",
              "<style scoped>\n",
              "    .dataframe tbody tr th:only-of-type {\n",
              "        vertical-align: middle;\n",
              "    }\n",
              "\n",
              "    .dataframe tbody tr th {\n",
              "        vertical-align: top;\n",
              "    }\n",
              "\n",
              "    .dataframe thead th {\n",
              "        text-align: right;\n",
              "    }\n",
              "</style>\n",
              "<table border=\"1\" class=\"dataframe\">\n",
              "  <thead>\n",
              "    <tr style=\"text-align: right;\">\n",
              "      <th></th>\n",
              "      <th>quantity</th>\n",
              "      <th>price</th>\n",
              "      <th>orders_sum</th>\n",
              "      <th>orders_count</th>\n",
              "      <th>mean_quantity</th>\n",
              "      <th>mean_price</th>\n",
              "      <th>target</th>\n",
              "    </tr>\n",
              "  </thead>\n",
              "  <tbody>\n",
              "    <tr>\n",
              "      <th>0</th>\n",
              "      <td>1</td>\n",
              "      <td>1999.0</td>\n",
              "      <td>23612.0</td>\n",
              "      <td>9</td>\n",
              "      <td>1.0</td>\n",
              "      <td>2623.555556</td>\n",
              "      <td>0</td>\n",
              "    </tr>\n",
              "    <tr>\n",
              "      <th>1</th>\n",
              "      <td>1</td>\n",
              "      <td>2499.0</td>\n",
              "      <td>23612.0</td>\n",
              "      <td>9</td>\n",
              "      <td>1.0</td>\n",
              "      <td>2623.555556</td>\n",
              "      <td>0</td>\n",
              "    </tr>\n",
              "    <tr>\n",
              "      <th>2</th>\n",
              "      <td>1</td>\n",
              "      <td>6499.0</td>\n",
              "      <td>16497.0</td>\n",
              "      <td>3</td>\n",
              "      <td>1.0</td>\n",
              "      <td>5499.000000</td>\n",
              "      <td>0</td>\n",
              "    </tr>\n",
              "    <tr>\n",
              "      <th>3</th>\n",
              "      <td>1</td>\n",
              "      <td>4999.0</td>\n",
              "      <td>16497.0</td>\n",
              "      <td>3</td>\n",
              "      <td>1.0</td>\n",
              "      <td>5499.000000</td>\n",
              "      <td>0</td>\n",
              "    </tr>\n",
              "    <tr>\n",
              "      <th>4</th>\n",
              "      <td>1</td>\n",
              "      <td>4999.0</td>\n",
              "      <td>16497.0</td>\n",
              "      <td>3</td>\n",
              "      <td>1.0</td>\n",
              "      <td>5499.000000</td>\n",
              "      <td>0</td>\n",
              "    </tr>\n",
              "  </tbody>\n",
              "</table>\n",
              "</div>\n",
              "    <div class=\"colab-df-buttons\">\n",
              "\n",
              "  <div class=\"colab-df-container\">\n",
              "    <button class=\"colab-df-convert\" onclick=\"convertToInteractive('df-2309e45d-9c4b-4a60-bc35-de4f730908f2')\"\n",
              "            title=\"Convert this dataframe to an interactive table.\"\n",
              "            style=\"display:none;\">\n",
              "\n",
              "  <svg xmlns=\"http://www.w3.org/2000/svg\" height=\"24px\" viewBox=\"0 -960 960 960\">\n",
              "    <path d=\"M120-120v-720h720v720H120Zm60-500h600v-160H180v160Zm220 220h160v-160H400v160Zm0 220h160v-160H400v160ZM180-400h160v-160H180v160Zm440 0h160v-160H620v160ZM180-180h160v-160H180v160Zm440 0h160v-160H620v160Z\"/>\n",
              "  </svg>\n",
              "    </button>\n",
              "\n",
              "  <style>\n",
              "    .colab-df-container {\n",
              "      display:flex;\n",
              "      gap: 12px;\n",
              "    }\n",
              "\n",
              "    .colab-df-convert {\n",
              "      background-color: #E8F0FE;\n",
              "      border: none;\n",
              "      border-radius: 50%;\n",
              "      cursor: pointer;\n",
              "      display: none;\n",
              "      fill: #1967D2;\n",
              "      height: 32px;\n",
              "      padding: 0 0 0 0;\n",
              "      width: 32px;\n",
              "    }\n",
              "\n",
              "    .colab-df-convert:hover {\n",
              "      background-color: #E2EBFA;\n",
              "      box-shadow: 0px 1px 2px rgba(60, 64, 67, 0.3), 0px 1px 3px 1px rgba(60, 64, 67, 0.15);\n",
              "      fill: #174EA6;\n",
              "    }\n",
              "\n",
              "    .colab-df-buttons div {\n",
              "      margin-bottom: 4px;\n",
              "    }\n",
              "\n",
              "    [theme=dark] .colab-df-convert {\n",
              "      background-color: #3B4455;\n",
              "      fill: #D2E3FC;\n",
              "    }\n",
              "\n",
              "    [theme=dark] .colab-df-convert:hover {\n",
              "      background-color: #434B5C;\n",
              "      box-shadow: 0px 1px 3px 1px rgba(0, 0, 0, 0.15);\n",
              "      filter: drop-shadow(0px 1px 2px rgba(0, 0, 0, 0.3));\n",
              "      fill: #FFFFFF;\n",
              "    }\n",
              "  </style>\n",
              "\n",
              "    <script>\n",
              "      const buttonEl =\n",
              "        document.querySelector('#df-2309e45d-9c4b-4a60-bc35-de4f730908f2 button.colab-df-convert');\n",
              "      buttonEl.style.display =\n",
              "        google.colab.kernel.accessAllowed ? 'block' : 'none';\n",
              "\n",
              "      async function convertToInteractive(key) {\n",
              "        const element = document.querySelector('#df-2309e45d-9c4b-4a60-bc35-de4f730908f2');\n",
              "        const dataTable =\n",
              "          await google.colab.kernel.invokeFunction('convertToInteractive',\n",
              "                                                    [key], {});\n",
              "        if (!dataTable) return;\n",
              "\n",
              "        const docLinkHtml = 'Like what you see? Visit the ' +\n",
              "          '<a target=\"_blank\" href=https://colab.research.google.com/notebooks/data_table.ipynb>data table notebook</a>'\n",
              "          + ' to learn more about interactive tables.';\n",
              "        element.innerHTML = '';\n",
              "        dataTable['output_type'] = 'display_data';\n",
              "        await google.colab.output.renderOutput(dataTable, element);\n",
              "        const docLink = document.createElement('div');\n",
              "        docLink.innerHTML = docLinkHtml;\n",
              "        element.appendChild(docLink);\n",
              "      }\n",
              "    </script>\n",
              "  </div>\n",
              "\n",
              "\n",
              "<div id=\"df-7f1587ed-d60a-480b-b901-fb1d0ebf61cc\">\n",
              "  <button class=\"colab-df-quickchart\" onclick=\"quickchart('df-7f1587ed-d60a-480b-b901-fb1d0ebf61cc')\"\n",
              "            title=\"Suggest charts\"\n",
              "            style=\"display:none;\">\n",
              "\n",
              "<svg xmlns=\"http://www.w3.org/2000/svg\" height=\"24px\"viewBox=\"0 0 24 24\"\n",
              "     width=\"24px\">\n",
              "    <g>\n",
              "        <path d=\"M19 3H5c-1.1 0-2 .9-2 2v14c0 1.1.9 2 2 2h14c1.1 0 2-.9 2-2V5c0-1.1-.9-2-2-2zM9 17H7v-7h2v7zm4 0h-2V7h2v10zm4 0h-2v-4h2v4z\"/>\n",
              "    </g>\n",
              "</svg>\n",
              "  </button>\n",
              "\n",
              "<style>\n",
              "  .colab-df-quickchart {\n",
              "      --bg-color: #E8F0FE;\n",
              "      --fill-color: #1967D2;\n",
              "      --hover-bg-color: #E2EBFA;\n",
              "      --hover-fill-color: #174EA6;\n",
              "      --disabled-fill-color: #AAA;\n",
              "      --disabled-bg-color: #DDD;\n",
              "  }\n",
              "\n",
              "  [theme=dark] .colab-df-quickchart {\n",
              "      --bg-color: #3B4455;\n",
              "      --fill-color: #D2E3FC;\n",
              "      --hover-bg-color: #434B5C;\n",
              "      --hover-fill-color: #FFFFFF;\n",
              "      --disabled-bg-color: #3B4455;\n",
              "      --disabled-fill-color: #666;\n",
              "  }\n",
              "\n",
              "  .colab-df-quickchart {\n",
              "    background-color: var(--bg-color);\n",
              "    border: none;\n",
              "    border-radius: 50%;\n",
              "    cursor: pointer;\n",
              "    display: none;\n",
              "    fill: var(--fill-color);\n",
              "    height: 32px;\n",
              "    padding: 0;\n",
              "    width: 32px;\n",
              "  }\n",
              "\n",
              "  .colab-df-quickchart:hover {\n",
              "    background-color: var(--hover-bg-color);\n",
              "    box-shadow: 0 1px 2px rgba(60, 64, 67, 0.3), 0 1px 3px 1px rgba(60, 64, 67, 0.15);\n",
              "    fill: var(--button-hover-fill-color);\n",
              "  }\n",
              "\n",
              "  .colab-df-quickchart-complete:disabled,\n",
              "  .colab-df-quickchart-complete:disabled:hover {\n",
              "    background-color: var(--disabled-bg-color);\n",
              "    fill: var(--disabled-fill-color);\n",
              "    box-shadow: none;\n",
              "  }\n",
              "\n",
              "  .colab-df-spinner {\n",
              "    border: 2px solid var(--fill-color);\n",
              "    border-color: transparent;\n",
              "    border-bottom-color: var(--fill-color);\n",
              "    animation:\n",
              "      spin 1s steps(1) infinite;\n",
              "  }\n",
              "\n",
              "  @keyframes spin {\n",
              "    0% {\n",
              "      border-color: transparent;\n",
              "      border-bottom-color: var(--fill-color);\n",
              "      border-left-color: var(--fill-color);\n",
              "    }\n",
              "    20% {\n",
              "      border-color: transparent;\n",
              "      border-left-color: var(--fill-color);\n",
              "      border-top-color: var(--fill-color);\n",
              "    }\n",
              "    30% {\n",
              "      border-color: transparent;\n",
              "      border-left-color: var(--fill-color);\n",
              "      border-top-color: var(--fill-color);\n",
              "      border-right-color: var(--fill-color);\n",
              "    }\n",
              "    40% {\n",
              "      border-color: transparent;\n",
              "      border-right-color: var(--fill-color);\n",
              "      border-top-color: var(--fill-color);\n",
              "    }\n",
              "    60% {\n",
              "      border-color: transparent;\n",
              "      border-right-color: var(--fill-color);\n",
              "    }\n",
              "    80% {\n",
              "      border-color: transparent;\n",
              "      border-right-color: var(--fill-color);\n",
              "      border-bottom-color: var(--fill-color);\n",
              "    }\n",
              "    90% {\n",
              "      border-color: transparent;\n",
              "      border-bottom-color: var(--fill-color);\n",
              "    }\n",
              "  }\n",
              "</style>\n",
              "\n",
              "  <script>\n",
              "    async function quickchart(key) {\n",
              "      const quickchartButtonEl =\n",
              "        document.querySelector('#' + key + ' button');\n",
              "      quickchartButtonEl.disabled = true;  // To prevent multiple clicks.\n",
              "      quickchartButtonEl.classList.add('colab-df-spinner');\n",
              "      try {\n",
              "        const charts = await google.colab.kernel.invokeFunction(\n",
              "            'suggestCharts', [key], {});\n",
              "      } catch (error) {\n",
              "        console.error('Error during call to suggestCharts:', error);\n",
              "      }\n",
              "      quickchartButtonEl.classList.remove('colab-df-spinner');\n",
              "      quickchartButtonEl.classList.add('colab-df-quickchart-complete');\n",
              "    }\n",
              "    (() => {\n",
              "      let quickchartButtonEl =\n",
              "        document.querySelector('#df-7f1587ed-d60a-480b-b901-fb1d0ebf61cc button');\n",
              "      quickchartButtonEl.style.display =\n",
              "        google.colab.kernel.accessAllowed ? 'block' : 'none';\n",
              "    })();\n",
              "  </script>\n",
              "</div>\n",
              "    </div>\n",
              "  </div>\n"
            ],
            "application/vnd.google.colaboratory.intrinsic+json": {
              "type": "dataframe",
              "summary": "{\n  \"name\": \"apparel_purchases\",\n  \"rows\": 5,\n  \"fields\": [\n    {\n      \"column\": \"quantity\",\n      \"properties\": {\n        \"dtype\": \"number\",\n        \"std\": 0,\n        \"min\": 1,\n        \"max\": 1,\n        \"num_unique_values\": 1,\n        \"samples\": [\n          1\n        ],\n        \"semantic_type\": \"\",\n        \"description\": \"\"\n      }\n    },\n    {\n      \"column\": \"price\",\n      \"properties\": {\n        \"dtype\": \"number\",\n        \"std\": 1890.7670401189037,\n        \"min\": 1999.0,\n        \"max\": 6499.0,\n        \"num_unique_values\": 4,\n        \"samples\": [\n          2499.0\n        ],\n        \"semantic_type\": \"\",\n        \"description\": \"\"\n      }\n    },\n    {\n      \"column\": \"orders_sum\",\n      \"properties\": {\n        \"dtype\": \"number\",\n        \"std\": 3897.0459966492567,\n        \"min\": 16497.0,\n        \"max\": 23612.0,\n        \"num_unique_values\": 2,\n        \"samples\": [\n          16497.0\n        ],\n        \"semantic_type\": \"\",\n        \"description\": \"\"\n      }\n    },\n    {\n      \"column\": \"orders_count\",\n      \"properties\": {\n        \"dtype\": \"number\",\n        \"std\": 3,\n        \"min\": 3,\n        \"max\": 9,\n        \"num_unique_values\": 2,\n        \"samples\": [\n          3\n        ],\n        \"semantic_type\": \"\",\n        \"description\": \"\"\n      }\n    },\n    {\n      \"column\": \"mean_quantity\",\n      \"properties\": {\n        \"dtype\": \"number\",\n        \"std\": 0.0,\n        \"min\": 1.0,\n        \"max\": 1.0,\n        \"num_unique_values\": 1,\n        \"samples\": [\n          1.0\n        ],\n        \"semantic_type\": \"\",\n        \"description\": \"\"\n      }\n    },\n    {\n      \"column\": \"mean_price\",\n      \"properties\": {\n        \"dtype\": \"number\",\n        \"std\": 1574.9457850751328,\n        \"min\": 2623.5555555555557,\n        \"max\": 5499.0,\n        \"num_unique_values\": 2,\n        \"samples\": [\n          5499.0\n        ],\n        \"semantic_type\": \"\",\n        \"description\": \"\"\n      }\n    },\n    {\n      \"column\": \"target\",\n      \"properties\": {\n        \"dtype\": \"number\",\n        \"std\": 0,\n        \"min\": 0,\n        \"max\": 0,\n        \"num_unique_values\": 1,\n        \"samples\": [\n          0\n        ],\n        \"semantic_type\": \"\",\n        \"description\": \"\"\n      }\n    }\n  ]\n}"
            }
          },
          "metadata": {}
        },
        {
          "output_type": "stream",
          "name": "stdout",
          "text": [
            "<class 'pandas.core.frame.DataFrame'>\n",
            "RangeIndex: 195365 entries, 0 to 195364\n",
            "Data columns (total 7 columns):\n",
            " #   Column         Non-Null Count   Dtype  \n",
            "---  ------         --------------   -----  \n",
            " 0   quantity       195365 non-null  int64  \n",
            " 1   price          195365 non-null  float64\n",
            " 2   orders_sum     195365 non-null  float64\n",
            " 3   orders_count   195365 non-null  int64  \n",
            " 4   mean_quantity  195365 non-null  float64\n",
            " 5   mean_price     195365 non-null  float64\n",
            " 6   target         195365 non-null  int64  \n",
            "dtypes: float64(4), int64(3)\n",
            "memory usage: 10.4 MB\n"
          ]
        }
      ]
    },
    {
      "cell_type": "markdown",
      "source": [
        "### Корреляционный анализ"
      ],
      "metadata": {
        "id": "uTYJ3zegeR7R"
      }
    },
    {
      "cell_type": "code",
      "source": [
        "corr_matrix = apparel_purchases.phik_matrix(interval_cols = ['mean_quantity', 'mean_price', 'orders_sum', 'order_count', 'quantity', 'price'])\n",
        "plt.figure(figsize=(21, 9))\n",
        "sns.heatmap(corr_matrix, annot=True, cmap='coolwarm')\n",
        "plt.title('Матрица корреляции Phi_K')\n",
        "plt.show()"
      ],
      "metadata": {
        "colab": {
          "base_uri": "https://localhost:8080/",
          "height": 486
        },
        "id": "fnSnTzN_cRsN",
        "outputId": "1509a843-0395-49c1-d436-1c50f945bce7"
      },
      "execution_count": 29,
      "outputs": [
        {
          "output_type": "display_data",
          "data": {
            "text/plain": [
              "<Figure size 2100x900 with 2 Axes>"
            ],
            "image/png": "[encoded data removed]"
          },
          "metadata": {}
        }
      ]
    },
    {
      "cell_type": "markdown",
      "source": [
        "Наблюдается высокий коэффициент корреляции между двумя синтетическими признаками: количеством покупок (orders_count) и суммой потраченных денег (orders_sum), что логично. Однако величина коэффициента меньше 0.95, поэтому оба признака будут участвовать в обучении модели. Наибольшую связь с целевым признаком (хоть и не сильную) показывает синтетический признак количества покупок (orders_count)."
      ],
      "metadata": {
        "id": "8Y7BH-6-ejXN"
      }
    },
    {
      "cell_type": "markdown",
      "source": [
        "### Выводы по третьему этапу\n",
        "1. На основе имеющихся данных разработаны новые признаки:  \n",
        "- количество покупок для каждого пользователя;\n",
        "- общее количество денег, которые потратил пользователь;\n",
        "- средняя цена товаров, которые купил пользователь;\n",
        "- среднее количество товаров, которые покупал пользователь.\n",
        "2. Новые признаки добавлены в датафрейм apparel_purchases, оттуда же удалены неинформативные признаки.\n",
        "3. Произведен корреляционный анализ данных. Установлено, что наиболее выраженную связь с целевым признаком имеет количество покупок пользователя."
      ],
      "metadata": {
        "id": "Nezn2Nr6kLHa"
      }
    },
    {
      "cell_type": "markdown",
      "source": [
        "## Обучение модели"
      ],
      "metadata": {
        "id": "OMMaYGYuf0Vh"
      }
    },
    {
      "cell_type": "markdown",
      "source": [
        "Разбиение данных на обучающую и тестовые выборки:"
      ],
      "metadata": {
        "id": "QlZs_b1alkp3"
      }
    },
    {
      "cell_type": "code",
      "source": [
        "features_train, features_test, target_train, target_test = train_test_split(\n",
        "    apparel_purchases.drop(['target'], axis=1),\n",
        "    apparel_purchases['target'],\n",
        "    stratify = apparel_purchases['target'],\n",
        "    test_size = TEST_SIZE,\n",
        "    random_state = RANDOM_STATE)"
      ],
      "metadata": {
        "id": "IHP8VgDfkrO3"
      },
      "execution_count": 30,
      "outputs": []
    },
    {
      "cell_type": "markdown",
      "source": [
        "Построение пайплайна для обучения модели градиентного бустинга:"
      ],
      "metadata": {
        "id": "8vdgCcyglqMy"
      }
    },
    {
      "cell_type": "code",
      "source": [
        "pipe_final = Pipeline([\n",
        "    ('models', lgb.LGBMClassifier(random_state=RANDOM_STATE))\n",
        "])"
      ],
      "metadata": {
        "id": "sep7vdbUlWyF"
      },
      "execution_count": 31,
      "outputs": []
    },
    {
      "cell_type": "markdown",
      "source": [
        "Параметры перебора в GridSearchCV:"
      ],
      "metadata": {
        "id": "RoePGGbSluGs"
      }
    },
    {
      "cell_type": "code",
      "source": [
        "params = {\n",
        "    'models__n_estimators': [200, 400, 600, 800]\n",
        "}\n",
        "\n",
        "grid = GridSearchCV(pipe_final,\n",
        "                    param_grid = params,\n",
        "                    scoring='roc_auc',\n",
        "                    cv=5,\n",
        "                    n_jobs=-1)"
      ],
      "metadata": {
        "id": "6HzYVDy-lW03"
      },
      "execution_count": 32,
      "outputs": []
    },
    {
      "cell_type": "markdown",
      "source": [
        "Обучение модели на тренировочной выборке:"
      ],
      "metadata": {
        "id": "xP_0hqHQlxzo"
      }
    },
    {
      "cell_type": "code",
      "source": [
        "grid.fit(features_train, target_train);"
      ],
      "metadata": {
        "colab": {
          "base_uri": "https://localhost:8080/"
        },
        "id": "9nN67tnSlaS9",
        "outputId": "03b957e1-cfd6-4f90-b4c8-7fdc49c08623"
      },
      "execution_count": 33,
      "outputs": [
        {
          "output_type": "stream",
          "name": "stdout",
          "text": [
            "[LightGBM] [Info] Number of positive: 4968, number of negative: 141555\n",
            "[LightGBM] [Info] Auto-choosing col-wise multi-threading, the overhead of testing was 0.016894 seconds.\n",
            "You can set `force_col_wise=true` to remove the overhead.\n",
            "[LightGBM] [Info] Total Bins 942\n",
            "[LightGBM] [Info] Number of data points in the train set: 146523, number of used features: 6\n",
            "[LightGBM] [Info] [binary:BoostFromScore]: pavg=0.033906 -> initscore=-3.349671\n",
            "[LightGBM] [Info] Start training from score -3.349671\n"
          ]
        }
      ]
    },
    {
      "cell_type": "markdown",
      "source": [
        "Параметры лучшей модели:"
      ],
      "metadata": {
        "id": "ls58vlAol2I8"
      }
    },
    {
      "cell_type": "code",
      "source": [
        "print('Лучшая модель и её параметры:\\n', grid.best_estimator_)"
      ],
      "metadata": {
        "colab": {
          "base_uri": "https://localhost:8080/"
        },
        "id": "8ej0zDB7pqVo",
        "outputId": "73fc4c8a-602f-466e-c009-81e3571d5c0b"
      },
      "execution_count": 34,
      "outputs": [
        {
          "output_type": "stream",
          "name": "stdout",
          "text": [
            "Лучшая модель и её параметры:\n",
            " Pipeline(steps=[('models', LGBMClassifier(n_estimators=800, random_state=42))])\n"
          ]
        }
      ]
    },
    {
      "cell_type": "code",
      "source": [
        "print (f'Метрика лучшей модели на тренировочной выборке: {grid.best_score_:.5f}')"
      ],
      "metadata": {
        "colab": {
          "base_uri": "https://localhost:8080/"
        },
        "id": "iRH92YICmIA7",
        "outputId": "b2d2a739-3a64-4aeb-de86-559aa761b2d3"
      },
      "execution_count": 35,
      "outputs": [
        {
          "output_type": "stream",
          "name": "stdout",
          "text": [
            "Метрика лучшей модели на тренировочной выборке: 0.93353\n"
          ]
        }
      ]
    },
    {
      "cell_type": "markdown",
      "source": [
        "Предсказание лучшей модели на тестовых данных:"
      ],
      "metadata": {
        "id": "MhxfgjBpl5yL"
      }
    },
    {
      "cell_type": "code",
      "source": [
        "test_target_pred = grid.predict(features_test)"
      ],
      "metadata": {
        "id": "rhlwI6FFm4yU"
      },
      "execution_count": 36,
      "outputs": []
    },
    {
      "cell_type": "code",
      "source": [
        "print(f'Метрика ROC AUC на тестовой выборке: \\\n",
        "{roc_auc_score(target_test, test_target_pred)}')"
      ],
      "metadata": {
        "colab": {
          "base_uri": "https://localhost:8080/"
        },
        "id": "2ZplD26vnBHB",
        "outputId": "7bb6815a-0df3-4628-f144-acc5c13cb8b9"
      },
      "execution_count": 37,
      "outputs": [
        {
          "output_type": "stream",
          "name": "stdout",
          "text": [
            "Метрика ROC AUC на тестовой выборке: 0.7551380844355088\n"
          ]
        }
      ]
    },
    {
      "cell_type": "markdown",
      "source": [
        "### Выводы по четвертому этапу\n",
        "1. Осуществлено разбиение данных на тренировочную и тестовую выборки.\n",
        "2. Построен папйлайн для обучения модели.\n",
        "3. Осуществлен поиск оптимальных параметров модели градиентного бустинга в GridSearchCV по метрике ROC AUC.\n",
        "4. На обучающей выборке метрика лучшей модели составила 0.93, на тестовой - 0.75. Данные значения являются для заказчика приемлемыми."
      ],
      "metadata": {
        "id": "-8GWiEAsljpk"
      }
    },
    {
      "cell_type": "markdown",
      "source": [
        "## Оценка значимости признаков"
      ],
      "metadata": {
        "id": "pNM8eXQ4nK4Q"
      }
    },
    {
      "cell_type": "code",
      "source": [
        "explainer = shap.TreeExplainer(grid.best_estimator_.named_steps['models'], features_train)\n",
        "shap_values = explainer(features_train)\n",
        "shap.summary_plot(shap_values, plot_type = 'bar', plot_size = (21, 10))"
      ],
      "metadata": {
        "id": "0tz2FSsrnXjy",
        "colab": {
          "base_uri": "https://localhost:8080/",
          "height": 471
        },
        "outputId": "1c26de3e-b080-46cc-e143-0808e3f590ec"
      },
      "execution_count": 38,
      "outputs": [
        {
          "output_type": "stream",
          "name": "stderr",
          "text": [
            "100%|===================| 146471/146523 [37:07<00:00]       "
          ]
        },
        {
          "output_type": "display_data",
          "data": {
            "text/plain": [
              "<Figure size 2100x1000 with 1 Axes>"
            ],
            "image/png": "[encoded data removed]"
          },
          "metadata": {}
        }
      ]
    },
    {
      "cell_type": "markdown",
      "source": [
        "Наибольшее влияние на целевой оказывают такие признаки, как количество сделанных пользователем покупок, сумма потраченных пользователем денег и средняя цена товаров, купленных пользователем. Наименьшее влияние имеет количество единиц товрара в заказе."
      ],
      "metadata": {
        "id": "mC2J5eK5TTXZ"
      }
    },
    {
      "cell_type": "markdown",
      "source": [
        "## Выводы по исследованию\n",
        "Было проведено исследование данных, предоставленных интернет-магазином. Для оптимизации процессов было необходимо выделить пользователей, которые готовы совершить покупку в ближайшее время.\n",
        "Ислледование было проведено в несколько этапов:\n",
        "1. Загрузка данных:\n",
        "- импортированы необходимые библиотеки и модули;\n",
        "- исходные данные загружены в датафреймы pandas;\n",
        "- получена общая информация о данных;\n",
        "- проведена проверка наличия в данных пропусков, опечаток и дубликатов;\n",
        "- устранены некорректные значения в столбце category_ids датафрейма apparel_purchases;\n",
        "- устранены дубликаты в датафрейме apparel_messages.\n",
        "2. Анализ данных. Установлено, что:\n",
        "- пуш-уведомления рассылают немного чаще, чем сообщения электронной почты. Доля рассылок, приводящих к покупке, составляет около 0.5%;\n",
        "- средняя стоимость покупок составляет около 1000. Для большинства покупок характерно количество единиц товара равное одному;\n",
        "- повторную покупки совершили менее 2% клиентов интернет-магазина.\n",
        "3. Разработка признаков. На основе имеющихся данных разработаны новые признаки:  \n",
        "- количество покупок для каждого пользователя;\n",
        "- общее количество денег, которые потратил пользователь;\n",
        "- средняя цена товаров, которые купил пользователь;\n",
        "- среднее количество товаров, которые покупал пользователь.  \n",
        "Новые признаки добавлены в датафрейм apparel_purchases, оттуда же удалены неинформативные признаки.  \n",
        "Произведен корреляционный анализ данных. Установлено, что наиболее выраженную связь с целевым признаком имеет количество покупок пользователя.\n",
        "4. Обучение модели:\n",
        "- осуществлено разбиение данных на тренировочную и тестовую выборки;\n",
        "- построен папйлайн для обучения модели;\n",
        "- осуществлен поиск оптимальных параметров модели градиентного бустинга в GridSearchCV по метрике ROC AUC;\n",
        "- на обучающей выборке метрика лучшей модели составила 0.93, на тестовой - 0.75.\n",
        "5. Оценка значимости признаков. Установлено, что наибольшее влияние на целевой оказывают такие признаки, как количество сделанных пользователем покупок, сумма потраченных пользователем денег и средняя цена товаров, купленных пользователем."
      ],
      "metadata": {
        "id": "j-wyqG2ET6Pg"
      }
    },
    {
      "cell_type": "code",
      "source": [],
      "metadata": {
        "id": "058lHcbNUDBd"
      },
      "execution_count": 38,
      "outputs": []
    }
  ]
}